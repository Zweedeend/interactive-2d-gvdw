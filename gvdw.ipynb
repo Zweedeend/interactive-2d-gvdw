{
 "cells": [
  {
   "cell_type": "markdown",
   "metadata": {},
   "source": [
    "# Equation of State using Generalized van der Waals Theory\n",
    "\n",
    "This notebook illustrates the generalized van der Waals theory (gvdW) for the equation of state for interacting particles. Based on the lecture notes, _Properties of Molecular Fluids in Equilibrium_ by Sture Nordholm."
   ]
  },
  {
   "cell_type": "code",
   "execution_count": 20,
   "metadata": {},
   "outputs": [],
   "source": [
    "import inspect\n",
    "from math import sqrt, pi\n",
    "\n",
    "import matplotlib.pyplot as plt\n",
    "import numpy as np\n",
    "import pandas as pd\n",
    "from ipywidgets import interact\n",
    "from scipy.integrate import quad\n",
    "plt.rcParams.update({'font.size': 16, 'figure.figsize': [8.0, 6.0]})"
   ]
  },
  {
   "cell_type": "markdown",
   "metadata": {},
   "source": [
    "### Pair potentials\n",
    "\n",
    "The particles are here assumed to interact via a Lennard-Jones and a screened Coulomb potential,\n",
    "\n",
    "$$\n",
    "\\beta w(r) = \\frac{\\lambda_B z^2}{r} e^{-r/\\lambda_D}\n",
    "+ 4\\beta \\varepsilon_{LJ} \\left ( \\left ( \\frac{\\sigma}{r}\\right )^{12} - \\left ( \\frac{\\sigma}{r}\\right )^{6}\\right )\n",
    "$$\n",
    "\n",
    "where $\\lambda_B$ and $\\lambda_D$ are the Bjerrum and Debye lengths, respectively.\n",
    "Any potential may in principle be given and must return the energy in units of $k_BT$."
   ]
  },
  {
   "cell_type": "markdown",
   "metadata": {},
   "source": [
    "## Define your own potentials below\n",
    "\n",
    "* The name should start with `potential_`\n",
    "* The first parameter should be `r`\n",
    "* The docstring can be added for a nice displayname of the function (The raw python string like `r\"$ \\mu $\"` is convenient when writing latex, because in normal strings the backslash acts as an escape character) "
   ]
  },
  {
   "cell_type": "code",
   "execution_count": 9,
   "metadata": {
    "collapsed": true
   },
   "outputs": [],
   "source": [
    "# Debye-Huckel\n",
    "def potential_Debye_Huckel(r, z, D):\n",
    "    r\"\"\"$\\frac{\\lambda_B z^2}{r} e^{-r/\\lambda_D}$\"\"\"\n",
    "    lB = 7.0 # Bjerrum length, angstroms\n",
    "    return lB * z**2 * np.exp(-r/D) / r\n",
    "\n",
    "# Lennard-Jones\n",
    "def potential_Lennard_Jones(r, eps, sigma):\n",
    "    r\"\"\"$4\\beta \\varepsilon_{LJ} \\left ( \\left ( \\frac{\\sigma}{r}\\right )^{12} - \\left ( \\frac{\\sigma}{r}\\right )^{6}\\right )$\"\"\"\n",
    "    return 4 * eps * ( (sigma/r)**12 - (sigma/r)**6 )\n",
    "\n",
    "# Total potential\n",
    "def potential_Combined(r, z, D, eps, sigma):\n",
    "    r\"\"\"$\\frac{\\lambda_B z^2}{r} e^{-r/\\lambda_D} + 4\\beta \\varepsilon_{LJ} \\left ( \\left ( \\frac{\\sigma}{r}\\right )^{12} - \\left ( \\frac{\\sigma}{r}\\right )^{6}\\right )$\"\"\"\n",
    "    return potential_Debye_Huckel(r, z, D) + potential_Lennard_Jones(r, eps, sigma)"
   ]
  },
  {
   "cell_type": "markdown",
   "metadata": {},
   "source": [
    "### Interaction parameter\n",
    "\n",
    "Here we integrate the above pair potential to get the average interaction energy per particle, assuming that the pair correlation function, $g(r)$, can be described by a simple step function, zero when $r<\\sigma$, unity otherwise:\n",
    "$$ \n",
    "\\hat{a} = -\\frac{1}{2} \\int_{\\sigma}^{\\infty} 4\\pi w(r) r^2 dr\n",
    "$$\n",
    "\n",
    "In this Notebook we simply do the integration numerically so that we can use arbitrary pair potentials.\n",
    "From this we calculate the potential, $μ$, versus density, $n$, using,\n",
    "\n",
    "$$\n",
    "\\beta \\, \\mu_{gvdW} = \\ln \\left( \\frac{1}{y - y_0} \\right) + \\frac{y}{y-y_0} - 2 \\frac{\\hat{a}}{y}\n",
    "$$\n",
    "\n",
    "From this we calculate the pressure, $p$, versus density, $n$, using,\n",
    "\n",
    "where $y=1/n$ and $y_0=\\pi \\sigma^2/2$ is the particle area.\n",
    "\n",
    "For reference we'll also plot Equation of State for an ideal system (van 't Hoff), $\\beta \\mu_{ideal}= \\ln (1/y)$,\n",
    "where $\\beta = 1/k_BT$."
   ]
  },
  {
   "cell_type": "code",
   "execution_count": 10,
   "metadata": {
    "collapsed": true
   },
   "outputs": [],
   "source": [
    "def ahat(potential, **parameters):\n",
    "    sigma = parameters['sigma']\n",
    "    # extract the relevant parameters for the potential\n",
    "    parameters = {k:v for k,v in parameters.items() if k in inspect.signature(potential).parameters}\n",
    "    \n",
    "    def integrand(r):\n",
    "        return potential(r, **parameters) * r**2\n",
    "    integral, error = quad(integrand, sigma, np.infty, limit=50)\n",
    "    return -2 * pi * integral\n",
    "\n",
    "\n",
    "def ahatexact(z, D, eps, sigma):\n",
    "    return -2 * pi * (-8/9 * eps * sigma**3 + 7 * np.exp(-sigma/D) * z**2 * (D + sigma))\n",
    "\n",
    "def mu_ideal(n):\n",
    "    return np.log(n)\n",
    "\n",
    "def mu_gvdw_backup(n, z, D, eps, sigma, potential=potential_Combined):\n",
    "    y0 = pi*sigma**2 / 2\n",
    "    y  = 1 / n\n",
    "    a = ahat(potential, z=z, D=D, eps=eps, sigma=sigma)\n",
    "    return np.log(n) + np.log(y / (y-y0)) + y / (y-y0) - 2 * a/y\n",
    "\n",
    "def mu_gvdw(n, z, D, eps, sigma, potential=potential_Combined):\n",
    "    y0 = pi*sigma**2 / 2\n",
    "    y  = 1 / n\n",
    "    a = ahat(potential, z=z, D=D, eps=eps, sigma=sigma)\n",
    "    return  np.log(n) + np.log(y / (y-y0)) + y / (y-y0) - 2 * a/y"
   ]
  },
  {
   "cell_type": "markdown",
   "metadata": {},
   "source": [
    "### Interactive EOS plot"
   ]
  },
  {
   "cell_type": "code",
   "execution_count": 11,
   "metadata": {},
   "outputs": [
    {
     "data": {
      "application/vnd.jupyter.widget-view+json": {
       "model_id": "addb548445e7493e83688aec5def0c85",
       "version_major": 2,
       "version_minor": 0
      },
      "text/plain": [
       "A Jupyter Widget"
      ]
     },
     "metadata": {},
     "output_type": "display_data"
    }
   ],
   "source": [
    "def plot_EOS( eps=1.0, sigma=4.0, z=1.0, Cs=0.3, potential=potential_Combined):\n",
    "    D = 3.04/sqrt(Cs)\n",
    "    plt.plot(n, 10 + mu_ideal(n),  'k--', label='ideal', lw=2)\n",
    "    plt.plot(n, 10 + mu_gvdw(n, z, D, eps, sigma, potential=potential),  'r-', label=potential.__doc__ or potential.__name__, lw=2)\n",
    "    plt.title('Equation of State')\n",
    "    plt.xlabel(r'Number density, $n$')\n",
    "    plt.ylabel(r'Potential, $\\beta \\mu$')\n",
    "    plt.ylim([-2,10])\n",
    "    plt.legend(loc=4, frameon=False)\n",
    "    plt.show()\n",
    "\n",
    "n = np.linspace(1e-4, 1e-3, 100)\n",
    "\n",
    "_potentials = {fname[10:]: func for fname, func in globals().items() if fname.startswith(\"potential_\")}\n",
    "\n",
    "i = interact(plot_EOS,\n",
    "             eps=(0.0, 10.0, 0.1), \n",
    "             sigma=(0, 10, 0.1),\n",
    "             z=(0.0, 3, 1.0), \n",
    "             Cs=(1e-3, 1.0, 0.1), \n",
    "             potential = _potentials )\n",
    " \n",
    "i.widget.children[0].description=r'$\\beta\\varepsilon_{LJ}$'\n",
    "i.widget.children[1].description=r'$\\sigma_{LJ}$'\n",
    "i.widget.children[2].description=r'$z$'\n",
    "i.widget.children[3].description=r'$c_s$ (M)'"
   ]
  },
  {
   "cell_type": "markdown",
   "metadata": {},
   "source": [
    "# Using Bokeh"
   ]
  },
  {
   "cell_type": "code",
   "execution_count": 12,
   "metadata": {},
   "outputs": [],
   "source": [
    "from bokeh.io import show, output_notebook, push_notebook\n",
    "from bokeh.plotting import figure"
   ]
  },
  {
   "cell_type": "code",
   "execution_count": 13,
   "metadata": {},
   "outputs": [
    {
     "data": {
      "text/html": [
       "\n",
       "    <div class=\"bk-root\">\n",
       "        <a href=\"http://bokeh.pydata.org\" target=\"_blank\" class=\"bk-logo bk-logo-small bk-logo-notebook\"></a>\n",
       "        <span id=\"5b6214c1-b00b-4fa6-8e3c-b9897a45d25f\">Loading BokehJS ...</span>\n",
       "    </div>"
      ]
     },
     "metadata": {},
     "output_type": "display_data"
    },
    {
     "data": {
      "application/javascript": [
       "\n",
       "(function(global) {\n",
       "  function now() {\n",
       "    return new Date();\n",
       "  }\n",
       "\n",
       "  var force = true;\n",
       "\n",
       "  if (typeof (window._bokeh_onload_callbacks) === \"undefined\" || force === true) {\n",
       "    window._bokeh_onload_callbacks = [];\n",
       "    window._bokeh_is_loading = undefined;\n",
       "  }\n",
       "\n",
       "\n",
       "  \n",
       "  if (typeof (window._bokeh_timeout) === \"undefined\" || force === true) {\n",
       "    window._bokeh_timeout = Date.now() + 5000;\n",
       "    window._bokeh_failed_load = false;\n",
       "  }\n",
       "\n",
       "  var NB_LOAD_WARNING = {'data': {'text/html':\n",
       "     \"<div style='background-color: #fdd'>\\n\"+\n",
       "     \"<p>\\n\"+\n",
       "     \"BokehJS does not appear to have successfully loaded. If loading BokehJS from CDN, this \\n\"+\n",
       "     \"may be due to a slow or bad network connection. Possible fixes:\\n\"+\n",
       "     \"</p>\\n\"+\n",
       "     \"<ul>\\n\"+\n",
       "     \"<li>re-rerun `output_notebook()` to attempt to load from CDN again, or</li>\\n\"+\n",
       "     \"<li>use INLINE resources instead, as so:</li>\\n\"+\n",
       "     \"</ul>\\n\"+\n",
       "     \"<code>\\n\"+\n",
       "     \"from bokeh.resources import INLINE\\n\"+\n",
       "     \"output_notebook(resources=INLINE)\\n\"+\n",
       "     \"</code>\\n\"+\n",
       "     \"</div>\"}};\n",
       "\n",
       "  function display_loaded() {\n",
       "    if (window.Bokeh !== undefined) {\n",
       "      var el = document.getElementById(\"5b6214c1-b00b-4fa6-8e3c-b9897a45d25f\");\n",
       "      el.textContent = \"BokehJS \" + Bokeh.version + \" successfully loaded.\";\n",
       "    } else if (Date.now() < window._bokeh_timeout) {\n",
       "      setTimeout(display_loaded, 100)\n",
       "    }\n",
       "  }\n",
       "\n",
       "  function run_callbacks() {\n",
       "    try {\n",
       "      window._bokeh_onload_callbacks.forEach(function(callback) { callback() });\n",
       "    }\n",
       "    finally {\n",
       "      delete window._bokeh_onload_callbacks\n",
       "    }\n",
       "    console.info(\"Bokeh: all callbacks have finished\");\n",
       "  }\n",
       "\n",
       "  function load_libs(js_urls, callback) {\n",
       "    window._bokeh_onload_callbacks.push(callback);\n",
       "    if (window._bokeh_is_loading > 0) {\n",
       "      console.log(\"Bokeh: BokehJS is being loaded, scheduling callback at\", now());\n",
       "      return null;\n",
       "    }\n",
       "    if (js_urls == null || js_urls.length === 0) {\n",
       "      run_callbacks();\n",
       "      return null;\n",
       "    }\n",
       "    console.log(\"Bokeh: BokehJS not loaded, scheduling load and callback at\", now());\n",
       "    window._bokeh_is_loading = js_urls.length;\n",
       "    for (var i = 0; i < js_urls.length; i++) {\n",
       "      var url = js_urls[i];\n",
       "      var s = document.createElement('script');\n",
       "      s.src = url;\n",
       "      s.async = false;\n",
       "      s.onreadystatechange = s.onload = function() {\n",
       "        window._bokeh_is_loading--;\n",
       "        if (window._bokeh_is_loading === 0) {\n",
       "          console.log(\"Bokeh: all BokehJS libraries loaded\");\n",
       "          run_callbacks()\n",
       "        }\n",
       "      };\n",
       "      s.onerror = function() {\n",
       "        console.warn(\"failed to load library \" + url);\n",
       "      };\n",
       "      console.log(\"Bokeh: injecting script tag for BokehJS library: \", url);\n",
       "      document.getElementsByTagName(\"head\")[0].appendChild(s);\n",
       "    }\n",
       "  };var element = document.getElementById(\"5b6214c1-b00b-4fa6-8e3c-b9897a45d25f\");\n",
       "  if (element == null) {\n",
       "    console.log(\"Bokeh: ERROR: autoload.js configured with elementid '5b6214c1-b00b-4fa6-8e3c-b9897a45d25f' but no matching script tag was found. \")\n",
       "    return false;\n",
       "  }\n",
       "\n",
       "  var js_urls = [\"https://cdn.pydata.org/bokeh/release/bokeh-0.12.6.min.js\", \"https://cdn.pydata.org/bokeh/release/bokeh-widgets-0.12.6.min.js\"];\n",
       "\n",
       "  var inline_js = [\n",
       "    function(Bokeh) {\n",
       "      Bokeh.set_log_level(\"info\");\n",
       "    },\n",
       "    \n",
       "    function(Bokeh) {\n",
       "      \n",
       "    },\n",
       "    \n",
       "    function(Bokeh) {\n",
       "      \n",
       "      document.getElementById(\"5b6214c1-b00b-4fa6-8e3c-b9897a45d25f\").textContent = \"BokehJS is loading...\";\n",
       "    },\n",
       "    function(Bokeh) {\n",
       "      console.log(\"Bokeh: injecting CSS: https://cdn.pydata.org/bokeh/release/bokeh-0.12.6.min.css\");\n",
       "      Bokeh.embed.inject_css(\"https://cdn.pydata.org/bokeh/release/bokeh-0.12.6.min.css\");\n",
       "      console.log(\"Bokeh: injecting CSS: https://cdn.pydata.org/bokeh/release/bokeh-widgets-0.12.6.min.css\");\n",
       "      Bokeh.embed.inject_css(\"https://cdn.pydata.org/bokeh/release/bokeh-widgets-0.12.6.min.css\");\n",
       "    }\n",
       "  ];\n",
       "\n",
       "  function run_inline_js() {\n",
       "    \n",
       "    if ((window.Bokeh !== undefined) || (force === true)) {\n",
       "      for (var i = 0; i < inline_js.length; i++) {\n",
       "        inline_js[i](window.Bokeh);\n",
       "      }if (force === true) {\n",
       "        display_loaded();\n",
       "      }} else if (Date.now() < window._bokeh_timeout) {\n",
       "      setTimeout(run_inline_js, 100);\n",
       "    } else if (!window._bokeh_failed_load) {\n",
       "      console.log(\"Bokeh: BokehJS failed to load within specified timeout.\");\n",
       "      window._bokeh_failed_load = true;\n",
       "    } else if (force !== true) {\n",
       "      var cell = $(document.getElementById(\"5b6214c1-b00b-4fa6-8e3c-b9897a45d25f\")).parents('.cell').data().cell;\n",
       "      cell.output_area.append_execute_result(NB_LOAD_WARNING)\n",
       "    }\n",
       "\n",
       "  }\n",
       "\n",
       "  if (window._bokeh_is_loading === 0) {\n",
       "    console.log(\"Bokeh: BokehJS loaded, going straight to plotting\");\n",
       "    run_inline_js();\n",
       "  } else {\n",
       "    load_libs(js_urls, function() {\n",
       "      console.log(\"Bokeh: BokehJS plotting callback run at\", now());\n",
       "      run_inline_js();\n",
       "    });\n",
       "  }\n",
       "}(this));"
      ]
     },
     "metadata": {},
     "output_type": "display_data"
    }
   ],
   "source": [
    "output_notebook()"
   ]
  },
  {
   "cell_type": "code",
   "execution_count": 14,
   "metadata": {
    "collapsed": true
   },
   "outputs": [],
   "source": [
    "def update(eps=1.0, sigma=4.0, z=0.0, Cs=0.3, potential=potential_Combined):\n",
    "    D = 3.04/sqrt(Cs)\n",
    "    gvdw_line.data_source.data[\"y\"] = 10 + mu_gvdw(n, z, D, eps, sigma, potential)\n",
    "    push_notebook(handle=potfig_handle)"
   ]
  },
  {
   "cell_type": "code",
   "execution_count": 15,
   "metadata": {},
   "outputs": [
    {
     "data": {
      "text/html": [
       "\n",
       "\n",
       "    <div class=\"bk-root\">\n",
       "        <div class=\"bk-plotdiv\" id=\"914e4368-b1ae-4a29-b983-662896052c5d\"></div>\n",
       "    </div>\n",
       "<script type=\"text/javascript\">\n",
       "  \n",
       "  (function(global) {\n",
       "    function now() {\n",
       "      return new Date();\n",
       "    }\n",
       "  \n",
       "    var force = false;\n",
       "  \n",
       "    if (typeof (window._bokeh_onload_callbacks) === \"undefined\" || force === true) {\n",
       "      window._bokeh_onload_callbacks = [];\n",
       "      window._bokeh_is_loading = undefined;\n",
       "    }\n",
       "  \n",
       "  \n",
       "    \n",
       "    if (typeof (window._bokeh_timeout) === \"undefined\" || force === true) {\n",
       "      window._bokeh_timeout = Date.now() + 0;\n",
       "      window._bokeh_failed_load = false;\n",
       "    }\n",
       "  \n",
       "    var NB_LOAD_WARNING = {'data': {'text/html':\n",
       "       \"<div style='background-color: #fdd'>\\n\"+\n",
       "       \"<p>\\n\"+\n",
       "       \"BokehJS does not appear to have successfully loaded. If loading BokehJS from CDN, this \\n\"+\n",
       "       \"may be due to a slow or bad network connection. Possible fixes:\\n\"+\n",
       "       \"</p>\\n\"+\n",
       "       \"<ul>\\n\"+\n",
       "       \"<li>re-rerun `output_notebook()` to attempt to load from CDN again, or</li>\\n\"+\n",
       "       \"<li>use INLINE resources instead, as so:</li>\\n\"+\n",
       "       \"</ul>\\n\"+\n",
       "       \"<code>\\n\"+\n",
       "       \"from bokeh.resources import INLINE\\n\"+\n",
       "       \"output_notebook(resources=INLINE)\\n\"+\n",
       "       \"</code>\\n\"+\n",
       "       \"</div>\"}};\n",
       "  \n",
       "    function display_loaded() {\n",
       "      if (window.Bokeh !== undefined) {\n",
       "        var el = document.getElementById(\"914e4368-b1ae-4a29-b983-662896052c5d\");\n",
       "        el.textContent = \"BokehJS \" + Bokeh.version + \" successfully loaded.\";\n",
       "      } else if (Date.now() < window._bokeh_timeout) {\n",
       "        setTimeout(display_loaded, 100)\n",
       "      }\n",
       "    }if ((window.Jupyter !== undefined) && Jupyter.notebook.kernel) {\n",
       "      comm_manager = Jupyter.notebook.kernel.comm_manager\n",
       "      comm_manager.register_target(\"a6cc2351-ef8a-4533-9465-ffac55c7150a\", function () {});\n",
       "    }\n",
       "  \n",
       "    function run_callbacks() {\n",
       "      try {\n",
       "        window._bokeh_onload_callbacks.forEach(function(callback) { callback() });\n",
       "      }\n",
       "      finally {\n",
       "        delete window._bokeh_onload_callbacks\n",
       "      }\n",
       "      console.info(\"Bokeh: all callbacks have finished\");\n",
       "    }\n",
       "  \n",
       "    function load_libs(js_urls, callback) {\n",
       "      window._bokeh_onload_callbacks.push(callback);\n",
       "      if (window._bokeh_is_loading > 0) {\n",
       "        console.log(\"Bokeh: BokehJS is being loaded, scheduling callback at\", now());\n",
       "        return null;\n",
       "      }\n",
       "      if (js_urls == null || js_urls.length === 0) {\n",
       "        run_callbacks();\n",
       "        return null;\n",
       "      }\n",
       "      console.log(\"Bokeh: BokehJS not loaded, scheduling load and callback at\", now());\n",
       "      window._bokeh_is_loading = js_urls.length;\n",
       "      for (var i = 0; i < js_urls.length; i++) {\n",
       "        var url = js_urls[i];\n",
       "        var s = document.createElement('script');\n",
       "        s.src = url;\n",
       "        s.async = false;\n",
       "        s.onreadystatechange = s.onload = function() {\n",
       "          window._bokeh_is_loading--;\n",
       "          if (window._bokeh_is_loading === 0) {\n",
       "            console.log(\"Bokeh: all BokehJS libraries loaded\");\n",
       "            run_callbacks()\n",
       "          }\n",
       "        };\n",
       "        s.onerror = function() {\n",
       "          console.warn(\"failed to load library \" + url);\n",
       "        };\n",
       "        console.log(\"Bokeh: injecting script tag for BokehJS library: \", url);\n",
       "        document.getElementsByTagName(\"head\")[0].appendChild(s);\n",
       "      }\n",
       "    };var element = document.getElementById(\"914e4368-b1ae-4a29-b983-662896052c5d\");\n",
       "    if (element == null) {\n",
       "      console.log(\"Bokeh: ERROR: autoload.js configured with elementid '914e4368-b1ae-4a29-b983-662896052c5d' but no matching script tag was found. \")\n",
       "      return false;\n",
       "    }\n",
       "  \n",
       "    var js_urls = [];\n",
       "  \n",
       "    var inline_js = [\n",
       "      function(Bokeh) {\n",
       "        (function() {\n",
       "          var fn = function() {\n",
       "            var docs_json = {\"a2f6122f-df2f-42ad-a8cb-2a44dc096a81\":{\"roots\":{\"references\":[{\"attributes\":{},\"id\":\"b3be7147-1197-4174-acf3-13713d1b4744\",\"type\":\"LinearScale\"},{\"attributes\":{\"active_drag\":\"auto\",\"active_inspect\":\"auto\",\"active_scroll\":\"auto\",\"active_tap\":\"auto\",\"tools\":[{\"id\":\"e0cccd1d-cb4b-4ad8-a4c6-bab342f45b60\",\"type\":\"PanTool\"},{\"id\":\"8411cbe6-81fa-4317-8b2f-3139e28acb6a\",\"type\":\"WheelZoomTool\"},{\"id\":\"33a34cdf-5558-4dad-832a-5e323745fa75\",\"type\":\"BoxZoomTool\"},{\"id\":\"7a97327f-9375-4087-9bbb-45cf61c5098b\",\"type\":\"SaveTool\"},{\"id\":\"ff7cc66a-0a87-4b7c-9967-14b4fb1ad978\",\"type\":\"ResetTool\"},{\"id\":\"4985926e-40b9-4b05-a497-57ec32948213\",\"type\":\"HelpTool\"}]},\"id\":\"5db3144e-8381-4d0e-a037-385c3a009e4e\",\"type\":\"Toolbar\"},{\"attributes\":{\"plot\":null,\"text\":\"Excess potential\"},\"id\":\"f0983e8b-83ff-4382-a910-d283ef70d920\",\"type\":\"Title\"},{\"attributes\":{},\"id\":\"77214c5e-06fb-4a09-9d19-2495fd786674\",\"type\":\"BasicTickFormatter\"},{\"attributes\":{\"below\":[{\"id\":\"adec3a6f-dff7-4507-8018-af68470a139e\",\"type\":\"LinearAxis\"}],\"left\":[{\"id\":\"ee9b24ef-2756-4388-8738-defcd5889bc1\",\"type\":\"LinearAxis\"}],\"plot_height\":300,\"renderers\":[{\"id\":\"adec3a6f-dff7-4507-8018-af68470a139e\",\"type\":\"LinearAxis\"},{\"id\":\"74b208b4-7340-4e4d-9703-a70c3e946255\",\"type\":\"Grid\"},{\"id\":\"ee9b24ef-2756-4388-8738-defcd5889bc1\",\"type\":\"LinearAxis\"},{\"id\":\"fc58750d-4856-4991-a0a4-00287e2c5116\",\"type\":\"Grid\"},{\"id\":\"f154a999-0b00-4bac-9ec9-ccc2dc4cc2cd\",\"type\":\"BoxAnnotation\"},{\"id\":\"57493d98-e6ff-48ec-9a8b-ee8275bfe68f\",\"type\":\"Legend\"},{\"id\":\"bc5e4292-a9f8-4a8c-aef5-3cf615f51d05\",\"type\":\"GlyphRenderer\"},{\"id\":\"6f0cf6cc-e77d-45b2-aea5-e90712d80061\",\"type\":\"GlyphRenderer\"}],\"title\":{\"id\":\"f0983e8b-83ff-4382-a910-d283ef70d920\",\"type\":\"Title\"},\"tool_events\":{\"id\":\"1038b279-64b8-4757-add4-dcd8fd1d6216\",\"type\":\"ToolEvents\"},\"toolbar\":{\"id\":\"5db3144e-8381-4d0e-a037-385c3a009e4e\",\"type\":\"Toolbar\"},\"x_range\":{\"id\":\"445717b2-38b2-4164-b965-2dff7fbfdeb1\",\"type\":\"DataRange1d\"},\"x_scale\":{\"id\":\"b3be7147-1197-4174-acf3-13713d1b4744\",\"type\":\"LinearScale\"},\"y_range\":{\"id\":\"e78e337a-29d6-4233-a655-490902951cb9\",\"type\":\"DataRange1d\"},\"y_scale\":{\"id\":\"576f43af-b0d7-49ce-b1bc-f48fe0e8311a\",\"type\":\"LinearScale\"}},\"id\":\"6b762b12-4a5d-44c6-bf45-a9eb61239bb0\",\"subtype\":\"Figure\",\"type\":\"Plot\"},{\"attributes\":{},\"id\":\"1038b279-64b8-4757-add4-dcd8fd1d6216\",\"type\":\"ToolEvents\"},{\"attributes\":{\"label\":{\"value\":\"GvdW\"},\"renderers\":[{\"id\":\"6f0cf6cc-e77d-45b2-aea5-e90712d80061\",\"type\":\"GlyphRenderer\"}]},\"id\":\"d543880c-247e-49a8-b1be-9ae1ce1f373f\",\"type\":\"LegendItem\"},{\"attributes\":{\"callback\":null},\"id\":\"445717b2-38b2-4164-b965-2dff7fbfdeb1\",\"type\":\"DataRange1d\"},{\"attributes\":{\"callback\":null},\"id\":\"e78e337a-29d6-4233-a655-490902951cb9\",\"type\":\"DataRange1d\"},{\"attributes\":{\"items\":[{\"id\":\"91256b4b-ce29-4fcc-b790-c47f8f270ae0\",\"type\":\"LegendItem\"},{\"id\":\"d543880c-247e-49a8-b1be-9ae1ce1f373f\",\"type\":\"LegendItem\"}],\"plot\":{\"id\":\"6b762b12-4a5d-44c6-bf45-a9eb61239bb0\",\"subtype\":\"Figure\",\"type\":\"Plot\"}},\"id\":\"57493d98-e6ff-48ec-9a8b-ee8275bfe68f\",\"type\":\"Legend\"},{\"attributes\":{\"plot\":{\"id\":\"6b762b12-4a5d-44c6-bf45-a9eb61239bb0\",\"subtype\":\"Figure\",\"type\":\"Plot\"}},\"id\":\"8411cbe6-81fa-4317-8b2f-3139e28acb6a\",\"type\":\"WheelZoomTool\"},{\"attributes\":{\"overlay\":{\"id\":\"f154a999-0b00-4bac-9ec9-ccc2dc4cc2cd\",\"type\":\"BoxAnnotation\"},\"plot\":{\"id\":\"6b762b12-4a5d-44c6-bf45-a9eb61239bb0\",\"subtype\":\"Figure\",\"type\":\"Plot\"}},\"id\":\"33a34cdf-5558-4dad-832a-5e323745fa75\",\"type\":\"BoxZoomTool\"},{\"attributes\":{\"callback\":null,\"column_names\":[\"x\",\"y\"],\"data\":{\"x\":{\"__ndarray__\":\"LUMc6+I2Gj/r1B6M95gcP6pmIS0M+x4/NPwRZ5CuID8TRZO3mt8hP/KNFAilECM/0daVWK9BJD+wHxepuXIlP5BomPnDoyY/brEZSs7UJz9O+pqa2AUpPy1DHOviNio/DIydO+1nKz/r1B6M95gsP8odoNwByi0/qmYhLQz7Lj/EV9E+CxYwPzT8EWeQrjA/o6BSjxVHMT8TRZO3mt8xP4Lp098feDI/8o0UCKUQMz9iMlUwKqkzP9HWlVivQTQ/QXvWgDTaND+wHxepuXI1PyDEV9E+CzY/j2iY+cOjNj//DNkhSTw3P26xGUrO1Dc/3lVaclNtOD9N+pqa2AU5P72e28Jdnjk/LUMc6+I2Oj+c51wTaM86PwyMnTvtZzs/ezDeY3IAPD/r1B6M95g8P1p5X7R8MT0/yh2g3AHKPT85wuAEh2I+P6lmIS0M+z4/GQtiVZGTPz/EV9E+CxZAP/yp8dJNYkA/NPwRZ5CuQD9sTjL70vpAP6OgUo8VR0E/2/JyI1iTQT8TRZO3mt9BP0uXs0vdK0I/g+nT3x94Qj+6O/RzYsRCP/KNFAilEEM/KuA0nOdcQz9iMlUwKqlDP5qEdcRs9UM/0taVWK9BRD8JKbbs8Y1EP0F71oA02kQ/ec32FHcmRT+xHxepuXJFP+hxNz38vkU/IMRX0T4LRj9YFnhlgVdGP5BomPnDo0Y/yLq4jQbwRj//DNkhSTxHPzdf+bWLiEc/b7EZSs7URz+nAzreECFIP95VWnJTbUg/Fqh6Bpa5SD9O+pqa2AVJP4ZMuy4bUkk/vp7bwl2eST/18PtWoOpJPy1DHOviNko/ZZU8fyWDSj+d51wTaM9KP9Q5faeqG0s/DIydO+1nSz9E3r3PL7RLP3ww3mNyAEw/tIL+97RMTD/r1B6M95hMPyMnPyA65Uw/W3lftHwxTT+Ty39Iv31NP8sdoNwByk0/AnDAcEQWTj86wuAEh2JOP3IUAZnJrk4/qmYhLQz7Tj/huEHBTkdPPxkLYlWRk08/UV2C6dPfTz/EV9E+CxZQP+CA4YgsPFA//Knx0k1iUD8=\",\"dtype\":\"float64\",\"shape\":[100]},\"y\":{\"__ndarray__\":\"ALUbfUGS+z/IeYfq6d38P/ByX1QHDf4/8LYn49Uj/z+kj/qE2BIAQPgvz9CmigBAav0wL3H6AEAGxEBYImMBQOYauel+xQFA9lVLOi0iAkCgVrFDu3kCQGYkNCyjzAJAUKHKzU4bA0Dc2N58GmYDQM5/4j1XrQNAfDXli0zxA0CUAlTJOTIEQGLBoG1XcARA5l/0/derBEBWcLPb6OQEQFSnIvGyGwVAjC6gQltQBUBab4JpA4MFQETanfzJswVADPui6criBUAU6OTBHxAGQLw3mvzfOwZA0KJHMCFmBkA8DLVE944GQFgdj550tgZAgHilRarcBkBeA40GqAEHQDDrTJB8JQdA2jGijjVIB0CUkk/B32kHQLJr3RCHigdALFgeoTaqB0CQqMDh+MgHQPR+Kp3X5gdAxJTVBdwDCEBqV1jCDiAIQI7SQ/h3OwhAvpv4VR9WCEACeZAbDHAIQMyq9iJFiQhAOHxF59ChCEAu73yLtbkIQGrvo+D40AhAhmFja6DnCECelShpsf0IQFAU29QwEwlAwl8wayMoCUDuEqeujTwJQFS/MetzUAlAmACZOdpjCUAkcZuCxHYJQGx30YE2iQlAukRayDObCUCq0la/v6wJQIowN6rdvQlAWgTeqJDOCUA6wZ25294JQLy+ErvB7glANg/dbUX+CUD2rTx2aQ0KQPxgkl0wHApAMHLHk5wqCkDoMp5wsDgKQNYP7TRuRgpAlNPFC9hTCkAMkooL8GAKQFSW8Ta4bQpAcI/5fTJ6CkCuHc++YIYKQJ7KpMZEkgpAil9+UuCdCkDKevAPNakKQFwy1Z1EtApApoH2jBC/CkDMMa9gmskKQOLdgo/j0wpAlKitg+3dCkDoLKybuecKQAIqvCpJ8QpA9F9WeZ36CkD+CqLFtwMLQBxj4kOZDAtA6n3eHkMVC0B26kN4th0LQJxYBGn0JQtAWJeuAf4tC0DuMMNK1DULQEjmBEV4PQtAEEfF6epEC0B8ny0rLUwLQDxxhPQ/UwtAfKlvKiRaC0BYwjOr2mALQK77705kZwtAzNPX58FtC0A=\",\"dtype\":\"float64\",\"shape\":[100]}}},\"id\":\"7d1da417-344e-4f27-9016-b94a55f9d54a\",\"type\":\"ColumnDataSource\"},{\"attributes\":{\"plot\":{\"id\":\"6b762b12-4a5d-44c6-bf45-a9eb61239bb0\",\"subtype\":\"Figure\",\"type\":\"Plot\"}},\"id\":\"e0cccd1d-cb4b-4ad8-a4c6-bab342f45b60\",\"type\":\"PanTool\"},{\"attributes\":{\"data_source\":{\"id\":\"35803bd4-7d69-40e4-ab6a-9ad495d20ea4\",\"type\":\"ColumnDataSource\"},\"glyph\":{\"id\":\"e166e3eb-f013-45a8-9dac-a972ecb3b49d\",\"type\":\"Line\"},\"hover_glyph\":null,\"muted_glyph\":null,\"nonselection_glyph\":{\"id\":\"1f90141f-3070-4f2f-9c47-c3d4ca4a4480\",\"type\":\"Line\"},\"selection_glyph\":null},\"id\":\"bc5e4292-a9f8-4a8c-aef5-3cf615f51d05\",\"type\":\"GlyphRenderer\"},{\"attributes\":{},\"id\":\"576f43af-b0d7-49ce-b1bc-f48fe0e8311a\",\"type\":\"LinearScale\"},{\"attributes\":{\"bottom_units\":\"screen\",\"fill_alpha\":{\"value\":0.5},\"fill_color\":{\"value\":\"lightgrey\"},\"left_units\":\"screen\",\"level\":\"overlay\",\"line_alpha\":{\"value\":1.0},\"line_color\":{\"value\":\"black\"},\"line_dash\":[4,4],\"line_width\":{\"value\":2},\"plot\":null,\"render_mode\":\"css\",\"right_units\":\"screen\",\"top_units\":\"screen\"},\"id\":\"f154a999-0b00-4bac-9ec9-ccc2dc4cc2cd\",\"type\":\"BoxAnnotation\"},{\"attributes\":{\"axis_label\":\"Number density n\",\"formatter\":{\"id\":\"77214c5e-06fb-4a09-9d19-2495fd786674\",\"type\":\"BasicTickFormatter\"},\"plot\":{\"id\":\"6b762b12-4a5d-44c6-bf45-a9eb61239bb0\",\"subtype\":\"Figure\",\"type\":\"Plot\"},\"ticker\":{\"id\":\"a7acd34d-bed7-46db-b831-2b66cc12bb9a\",\"type\":\"BasicTicker\"}},\"id\":\"adec3a6f-dff7-4507-8018-af68470a139e\",\"type\":\"LinearAxis\"},{\"attributes\":{},\"id\":\"a7acd34d-bed7-46db-b831-2b66cc12bb9a\",\"type\":\"BasicTicker\"},{\"attributes\":{\"line_color\":{\"value\":\"#1f77b4\"},\"x\":{\"field\":\"x\"},\"y\":{\"field\":\"y\"}},\"id\":\"e166e3eb-f013-45a8-9dac-a972ecb3b49d\",\"type\":\"Line\"},{\"attributes\":{\"plot\":{\"id\":\"6b762b12-4a5d-44c6-bf45-a9eb61239bb0\",\"subtype\":\"Figure\",\"type\":\"Plot\"},\"ticker\":{\"id\":\"a7acd34d-bed7-46db-b831-2b66cc12bb9a\",\"type\":\"BasicTicker\"}},\"id\":\"74b208b4-7340-4e4d-9703-a70c3e946255\",\"type\":\"Grid\"},{\"attributes\":{\"axis_label\":\"Potential (k T)\",\"formatter\":{\"id\":\"3a14ea56-d24c-425b-8e49-63d5b4fe46ce\",\"type\":\"BasicTickFormatter\"},\"plot\":{\"id\":\"6b762b12-4a5d-44c6-bf45-a9eb61239bb0\",\"subtype\":\"Figure\",\"type\":\"Plot\"},\"ticker\":{\"id\":\"d8d7dd43-b79f-46e0-b227-d5a26d66053d\",\"type\":\"BasicTicker\"}},\"id\":\"ee9b24ef-2756-4388-8738-defcd5889bc1\",\"type\":\"LinearAxis\"},{\"attributes\":{},\"id\":\"d8d7dd43-b79f-46e0-b227-d5a26d66053d\",\"type\":\"BasicTicker\"},{\"attributes\":{\"callback\":null,\"column_names\":[\"x\",\"y\"],\"data\":{\"x\":{\"__ndarray__\":\"LUMc6+I2Gj/r1B6M95gcP6pmIS0M+x4/NPwRZ5CuID8TRZO3mt8hP/KNFAilECM/0daVWK9BJD+wHxepuXIlP5BomPnDoyY/brEZSs7UJz9O+pqa2AUpPy1DHOviNio/DIydO+1nKz/r1B6M95gsP8odoNwByi0/qmYhLQz7Lj/EV9E+CxYwPzT8EWeQrjA/o6BSjxVHMT8TRZO3mt8xP4Lp098feDI/8o0UCKUQMz9iMlUwKqkzP9HWlVivQTQ/QXvWgDTaND+wHxepuXI1PyDEV9E+CzY/j2iY+cOjNj//DNkhSTw3P26xGUrO1Dc/3lVaclNtOD9N+pqa2AU5P72e28Jdnjk/LUMc6+I2Oj+c51wTaM86PwyMnTvtZzs/ezDeY3IAPD/r1B6M95g8P1p5X7R8MT0/yh2g3AHKPT85wuAEh2I+P6lmIS0M+z4/GQtiVZGTPz/EV9E+CxZAP/yp8dJNYkA/NPwRZ5CuQD9sTjL70vpAP6OgUo8VR0E/2/JyI1iTQT8TRZO3mt9BP0uXs0vdK0I/g+nT3x94Qj+6O/RzYsRCP/KNFAilEEM/KuA0nOdcQz9iMlUwKqlDP5qEdcRs9UM/0taVWK9BRD8JKbbs8Y1EP0F71oA02kQ/ec32FHcmRT+xHxepuXJFP+hxNz38vkU/IMRX0T4LRj9YFnhlgVdGP5BomPnDo0Y/yLq4jQbwRj//DNkhSTxHPzdf+bWLiEc/b7EZSs7URz+nAzreECFIP95VWnJTbUg/Fqh6Bpa5SD9O+pqa2AVJP4ZMuy4bUkk/vp7bwl2eST/18PtWoOpJPy1DHOviNko/ZZU8fyWDSj+d51wTaM9KP9Q5faeqG0s/DIydO+1nSz9E3r3PL7RLP3ww3mNyAEw/tIL+97RMTD/r1B6M95hMPyMnPyA65Uw/W3lftHwxTT+Ty39Iv31NP8sdoNwByk0/AnDAcEQWTj86wuAEh2JOP3IUAZnJrk4/qmYhLQz7Tj/huEHBTkdPPxkLYlWRk08/UV2C6dPfTz/EV9E+CxZQP+CA4YgsPFA//Knx0k1iUD8=\",\"dtype\":\"float64\",\"shape\":[100]},\"y\":{\"__ndarray__\":\"sK6qRORE6T9wS/xZsA3sP8ACdBNmne4/CGAG4T5+8D/4ePEl15jxP5hcS7EwofI/sOdLN4KZ8z/ICy4ooYP0PxhPYL8WYfU/4K8+qi8z9j8gRjbcB/v2P0h00qGTufc/oFD6rqZv+D+wQnus+R35PyADMqMuxfk/WB43idRl+j/g8V0jagD7PwB9g2Bglfs/+OTyShwl/D/wlW6l+K/8P3A/eURHNv0/kHnIMFK4/T9gWgKdXDb+P6gEybajsP4/SNB2WV8n/z/AKKunwpr/Pxw85kd+BQBABrZuHxw8AEA0gjPCTnEAQGzm3ZQopQBArCA6n7rXAECKsdmtFAkBQHBgwG9FOQFAosinkFpoAUACPk/QYJYBQMq2OxdkwwFAFGU8iW/vAUDSL/yVjRoCQLbO3QfIRAJADpBXEShuAkBedfxYtpYCQKYdWgR7vgJACrHNwX3lAkBqh23RxQsDQERyIQ1aMQNA/kwA8EBWA0AQqQadgHoDQPgAOOUengNAUMc5TSHBA0B02XUSjeMDQHhM0C9nBQRANC77YbQmBECUpHEreUcEQEbLIti5ZwRASsfTgHqHBECsuz8Ov6YEQLqW+zuLxQRA0BAjm+LjBEDUqdOUyAEFQKD2eWxAHwVA8CH1QU08BUDcIpQT8lgFQCrU778xdQVAmMqkBw+RBUAYg++OjKwFQIJELd+sxwVA1thDaHLiBUCwEPKB3/wFQETXCm32FgZA6HScVLkwBkB0egVPKkoGQCiv+F5LYwZAYj1xdB58BkAGQJhtpZQGQHK6nBfirAZA7O5+L9bEBkAC9M9ig9wGQB5XZlDr8wZASooIiQ8LB0B+zA2Q8SEHQNot9tuSOAdARkX61vROB0A+IZPfGGUHQJDz+kgAewdAJO6mW6yQB0BOvrpVHqYHQE4MdmtXuwdAMl2cx1jQB0C0rteLI+UHQIoeFtG4+QdAwOjipxkOCEDaA7sYRyIIQDacXSRCNghAIqwYxAtKCECo6RHqpF0IQIQ/jIEOcQhAFgMqb0mECEDmFSyRVpcIQGoerr82qghAwADgzOq8CEA=\",\"dtype\":\"float64\",\"shape\":[100]}}},\"id\":\"35803bd4-7d69-40e4-ab6a-9ad495d20ea4\",\"type\":\"ColumnDataSource\"},{\"attributes\":{\"dimension\":1,\"plot\":{\"id\":\"6b762b12-4a5d-44c6-bf45-a9eb61239bb0\",\"subtype\":\"Figure\",\"type\":\"Plot\"},\"ticker\":{\"id\":\"d8d7dd43-b79f-46e0-b227-d5a26d66053d\",\"type\":\"BasicTicker\"}},\"id\":\"fc58750d-4856-4991-a0a4-00287e2c5116\",\"type\":\"Grid\"},{\"attributes\":{\"plot\":{\"id\":\"6b762b12-4a5d-44c6-bf45-a9eb61239bb0\",\"subtype\":\"Figure\",\"type\":\"Plot\"}},\"id\":\"7a97327f-9375-4087-9bbb-45cf61c5098b\",\"type\":\"SaveTool\"},{\"attributes\":{\"label\":{\"value\":\"Ideal\"},\"renderers\":[{\"id\":\"bc5e4292-a9f8-4a8c-aef5-3cf615f51d05\",\"type\":\"GlyphRenderer\"}]},\"id\":\"91256b4b-ce29-4fcc-b790-c47f8f270ae0\",\"type\":\"LegendItem\"},{\"attributes\":{\"line_alpha\":{\"value\":0.1},\"line_color\":{\"value\":\"#1f77b4\"},\"x\":{\"field\":\"x\"},\"y\":{\"field\":\"y\"}},\"id\":\"1f90141f-3070-4f2f-9c47-c3d4ca4a4480\",\"type\":\"Line\"},{\"attributes\":{\"plot\":{\"id\":\"6b762b12-4a5d-44c6-bf45-a9eb61239bb0\",\"subtype\":\"Figure\",\"type\":\"Plot\"}},\"id\":\"ff7cc66a-0a87-4b7c-9967-14b4fb1ad978\",\"type\":\"ResetTool\"},{\"attributes\":{\"plot\":{\"id\":\"6b762b12-4a5d-44c6-bf45-a9eb61239bb0\",\"subtype\":\"Figure\",\"type\":\"Plot\"}},\"id\":\"4985926e-40b9-4b05-a497-57ec32948213\",\"type\":\"HelpTool\"},{\"attributes\":{\"line_color\":{\"value\":\"green\"},\"x\":{\"field\":\"x\"},\"y\":{\"field\":\"y\"}},\"id\":\"08f520cb-62ea-4cf5-9d0f-73b2f679c509\",\"type\":\"Line\"},{\"attributes\":{\"line_alpha\":{\"value\":0.1},\"line_color\":{\"value\":\"#1f77b4\"},\"x\":{\"field\":\"x\"},\"y\":{\"field\":\"y\"}},\"id\":\"faf08c63-75ab-43e4-8017-fe2cbdcdd7be\",\"type\":\"Line\"},{\"attributes\":{},\"id\":\"3a14ea56-d24c-425b-8e49-63d5b4fe46ce\",\"type\":\"BasicTickFormatter\"},{\"attributes\":{\"data_source\":{\"id\":\"7d1da417-344e-4f27-9016-b94a55f9d54a\",\"type\":\"ColumnDataSource\"},\"glyph\":{\"id\":\"08f520cb-62ea-4cf5-9d0f-73b2f679c509\",\"type\":\"Line\"},\"hover_glyph\":null,\"muted_glyph\":null,\"nonselection_glyph\":{\"id\":\"faf08c63-75ab-43e4-8017-fe2cbdcdd7be\",\"type\":\"Line\"},\"selection_glyph\":null},\"id\":\"6f0cf6cc-e77d-45b2-aea5-e90712d80061\",\"type\":\"GlyphRenderer\"}],\"root_ids\":[\"6b762b12-4a5d-44c6-bf45-a9eb61239bb0\"]},\"title\":\"Bokeh Application\",\"version\":\"0.12.6\"}};\n",
       "            var render_items = [{\"docid\":\"a2f6122f-df2f-42ad-a8cb-2a44dc096a81\",\"elementid\":\"914e4368-b1ae-4a29-b983-662896052c5d\",\"modelid\":\"6b762b12-4a5d-44c6-bf45-a9eb61239bb0\",\"notebook_comms_target\":\"a6cc2351-ef8a-4533-9465-ffac55c7150a\"}];\n",
       "            \n",
       "            Bokeh.embed.embed_items(docs_json, render_items);\n",
       "          };\n",
       "          if (document.readyState != \"loading\") fn();\n",
       "          else document.addEventListener(\"DOMContentLoaded\", fn);\n",
       "        })();\n",
       "      },\n",
       "      function(Bokeh) {\n",
       "      }\n",
       "    ];\n",
       "  \n",
       "    function run_inline_js() {\n",
       "      \n",
       "      if ((window.Bokeh !== undefined) || (force === true)) {\n",
       "        for (var i = 0; i < inline_js.length; i++) {\n",
       "          inline_js[i](window.Bokeh);\n",
       "        }if (force === true) {\n",
       "          display_loaded();\n",
       "        }} else if (Date.now() < window._bokeh_timeout) {\n",
       "        setTimeout(run_inline_js, 100);\n",
       "      } else if (!window._bokeh_failed_load) {\n",
       "        console.log(\"Bokeh: BokehJS failed to load within specified timeout.\");\n",
       "        window._bokeh_failed_load = true;\n",
       "      } else if (force !== true) {\n",
       "        var cell = $(document.getElementById(\"914e4368-b1ae-4a29-b983-662896052c5d\")).parents('.cell').data().cell;\n",
       "        cell.output_area.append_execute_result(NB_LOAD_WARNING)\n",
       "      }\n",
       "  \n",
       "    }\n",
       "  \n",
       "    if (window._bokeh_is_loading === 0) {\n",
       "      console.log(\"Bokeh: BokehJS loaded, going straight to plotting\");\n",
       "      run_inline_js();\n",
       "    } else {\n",
       "      load_libs(js_urls, function() {\n",
       "        console.log(\"Bokeh: BokehJS plotting callback run at\", now());\n",
       "        run_inline_js();\n",
       "      });\n",
       "    }\n",
       "  }(this));\n",
       "</script>"
      ]
     },
     "metadata": {},
     "output_type": "display_data"
    }
   ],
   "source": [
    "potfig = figure(\n",
    "    title=\"Excess potential\",\n",
    "    plot_height=300, \n",
    "    plot_width=600,\n",
    "    x_axis_label=\"Number density n\", \n",
    "    y_axis_label=\"Potential (k T)\")\n",
    "ideal_line = potfig.line(n, 10 + mu_ideal(n), legend=\"Ideal\")\n",
    "gvdw_line = potfig.line(n, 10 + mu_gvdw(n, z=0, D=3.04/sqrt(0.3), eps=1, sigma=4, potential=potential_Combined), color=\"green\", legend=\"GvdW\")\n",
    "potfig_handle = show(potfig, notebook_handle=True)\n",
    "\n"
   ]
  },
  {
   "cell_type": "code",
   "execution_count": 16,
   "metadata": {},
   "outputs": [
    {
     "data": {
      "application/vnd.jupyter.widget-view+json": {
       "model_id": "c828e1088c504cb5a3d74ad744330b22",
       "version_major": 2,
       "version_minor": 0
      },
      "text/plain": [
       "A Jupyter Widget"
      ]
     },
     "metadata": {},
     "output_type": "display_data"
    }
   ],
   "source": [
    "interact(update, eps=(0.0, 10.0, 0.1), sigma=(0, 5, 0.1), z=(0.0, 10, 1.0), Cs=(1e-3, 1.0, 0.1), potential=_potentials);"
   ]
  },
  {
   "cell_type": "markdown",
   "metadata": {},
   "source": [
    "# With Data"
   ]
  },
  {
   "cell_type": "code",
   "execution_count": 17,
   "metadata": {
    "collapsed": true
   },
   "outputs": [],
   "source": [
    "with open(\"datafile.csv\", \"wt\") as stream:\n",
    "    stream.write(\"\"\"\\\n",
    "length potential proteins density\n",
    "1.414000000000000000e+03 1.429585460731450097e-01 2.000000000000000000e+01 1.000302091231552026e+03\n",
    "9.990000000000000000e+02 2.990882091428900269e-01 2.000000000000000000e+01 2.004006008010011783e+03\n",
    "8.160000000000000000e+02 4.684432472751309806e-01 2.000000000000000000e+01 3.003652441368703876e+03\n",
    "6.320000000000000000e+02 8.629727385734929923e-01 2.000000000000000000e+01 5.007210382951449901e+03\n",
    "5.340000000000000000e+02 1.353602607621670062e+00 2.000000000000000000e+01 7.013704779138435697e+03\n",
    "4.710000000000000000e+02 1.970895704549270100e+00 2.000000000000000000e+01 9.015466031977857710e+03\n",
    "4.260000000000000000e+02 2.788653065634310035e+00 2.000000000000000000e+01 1.102074103462716812e+04\n",
    "3.920000000000000000e+02 3.842403663548089821e+00 2.000000000000000000e+01 1.301541024573094546e+04\"\"\")"
   ]
  },
  {
   "cell_type": "code",
   "execution_count": 18,
   "metadata": {},
   "outputs": [],
   "source": [
    "df = pd.read_csv(\"datafile.csv\", delimiter=\"(?:\\s+|,)\", engine=\"python\")"
   ]
  },
  {
   "cell_type": "code",
   "execution_count": 19,
   "metadata": {},
   "outputs": [
    {
     "data": {
      "application/vnd.jupyter.widget-view+json": {
       "model_id": "4ce7da134f6d4445918809618ad23983",
       "version_major": 2,
       "version_minor": 0
      },
      "text/plain": [
       "A Jupyter Widget"
      ]
     },
     "metadata": {},
     "output_type": "display_data"
    }
   ],
   "source": [
    "def plot_EOS( eps=1.0, sigma=4.0, z=0.0, Cs=0.3, potential=potential_Combined):\n",
    "    D = 3.04/sqrt(Cs)\n",
    "#     plt.title(potential.__doc__)\n",
    "    plt.plot(n, 10+mu_ideal(n),  'k--', label='ideal', lw=2)\n",
    "    plt.plot(n, 10+mu_gvdw(n, z, D, eps, sigma, potential=potential),  'r-', label=potential.__doc__ or potential.__name__, lw=2)\n",
    "    plt.plot(df.density/10**8, df.potential + mu_ideal((df.density/10**8)) + 10, label=\"data\")\n",
    "    plt.title('Equation of State')\n",
    "    plt.xlabel(r'Number density, $n$')\n",
    "    plt.ylabel(r'Potential, $\\beta \\mu$')\n",
    "    plt.legend(loc=0, frameon=False)\n",
    "    plt.show()\n",
    "\n",
    "data_density = df.density/10**8\n",
    "n = np.linspace(data_density[0], list(data_density)[-1], 100)\n",
    "\n",
    "_potentials = {fname: func for fname, func in globals().items() if fname.startswith(\"potential_\")}\n",
    "\n",
    "i = interact(plot_EOS,\n",
    "             eps=(0.0, 10.0, 0.1), \n",
    "             sigma=(0, 10, 0.1),\n",
    "             z=(0.0, 3, 1.0), \n",
    "             Cs=(1e-3, 1.0, 0.1), \n",
    "             potential = _potentials )\n",
    " \n",
    "i.widget.children[0].description=r'$\\beta\\varepsilon_{LJ}$'\n",
    "i.widget.children[1].description=r'$\\sigma_{LJ}$'\n",
    "i.widget.children[2].description=r'$z$'\n",
    "i.widget.children[3].description=r'$c_s$ (M)'"
   ]
  }
 ],
 "metadata": {
  "anaconda-cloud": {},
  "environment": {
   "channels": [
    "conda-forge",
    "defaults"
   ],
   "dependencies": [
    "ca-certificates=2017.7.27.1=0",
    "certifi=2017.7.27.1=py36_0",
    "cycler=0.10.0=py36_0",
    "freetype=2.7=1",
    "libpng=1.6.28=0",
    "matplotlib=2.0.2=py36_2",
    "ncurses=5.9=10",
    "openssl=1.0.2l=0",
    "pandas=0.20.3=py36_1",
    "pip=9.0.1=py36_0",
    "pyparsing=2.2.0=py36_0",
    "python=3.6.2=0",
    "python-dateutil=2.6.1=py36_0",
    "pytz=2017.2=py36_0",
    "readline=6.2=0",
    "setuptools=36.2.2=py36_0",
    "six=1.10.0=py36_1",
    "sqlite=3.13.0=1",
    "tk=8.5.19=2",
    "tornado=4.5.1=py36_0",
    "wheel=0.29.0=py36_0",
    "xz=5.2.3=0",
    "zlib=1.2.11=0",
    "mkl=2017.0.3=0",
    "numpy=1.13.1=py36_0"
   ],
   "name": "interactive-2d-gvdw",
   "prefix": "/Users/niels/anaconda3/envs/interactive-2d-gvdw"
  },
  "kernelspec": {
   "display_name": "Python 3",
   "language": "python",
   "name": "python3"
  },
  "language_info": {
   "codemirror_mode": {
    "name": "ipython",
    "version": 3
   },
   "file_extension": ".py",
   "mimetype": "text/x-python",
   "name": "python",
   "nbconvert_exporter": "python",
   "pygments_lexer": "ipython3",
   "version": "3.6.2"
  },
  "widgets": {
   "state": {
    "bb6ce5f633ef4963b9bf16b92bf3ac8f": {
     "views": [
      {
       "cell_index": 8
      }
     ]
    }
   },
   "version": "1.2.0"
  }
 },
 "nbformat": 4,
 "nbformat_minor": 1
}
