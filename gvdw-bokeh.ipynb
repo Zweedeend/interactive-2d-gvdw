{
 "cells": [
  {
   "cell_type": "markdown",
   "metadata": {},
   "source": [
    "# Equation of State using Generalized van der Waals Theory\n",
    "\n",
    "This notebook illustrates the generalized van der Waals theory (gvdW) for the equation of state for interacting particles. Based on the lecture notes, _Properties of Molecular Fluids in Equilibrium_ by Sture Nordholm."
   ]
  },
  {
   "cell_type": "code",
   "execution_count": 1,
   "metadata": {
    "collapsed": true
   },
   "outputs": [],
   "source": [
    "import inspect\n",
    "from math import sqrt, pi\n",
    "\n",
    "import numpy as np\n",
    "import pandas as pd\n",
    "from bokeh.io import show, output_notebook, push_notebook\n",
    "from bokeh.plotting import figure\n",
    "from ipywidgets import interact\n",
    "from scipy.integrate import quad"
   ]
  },
  {
   "cell_type": "code",
   "execution_count": 2,
   "metadata": {},
   "outputs": [
    {
     "data": {
      "text/html": [
       "\n",
       "    <div class=\"bk-root\">\n",
       "        <a href=\"http://bokeh.pydata.org\" target=\"_blank\" class=\"bk-logo bk-logo-small bk-logo-notebook\"></a>\n",
       "        <span id=\"310499c1-a9e2-47a9-b86f-5811e12db8f2\">Loading BokehJS ...</span>\n",
       "    </div>"
      ]
     },
     "metadata": {},
     "output_type": "display_data"
    },
    {
     "data": {
      "application/javascript": [
       "\n",
       "(function(global) {\n",
       "  function now() {\n",
       "    return new Date();\n",
       "  }\n",
       "\n",
       "  var force = true;\n",
       "\n",
       "  if (typeof (window._bokeh_onload_callbacks) === \"undefined\" || force === true) {\n",
       "    window._bokeh_onload_callbacks = [];\n",
       "    window._bokeh_is_loading = undefined;\n",
       "  }\n",
       "\n",
       "\n",
       "  \n",
       "  if (typeof (window._bokeh_timeout) === \"undefined\" || force === true) {\n",
       "    window._bokeh_timeout = Date.now() + 5000;\n",
       "    window._bokeh_failed_load = false;\n",
       "  }\n",
       "\n",
       "  var NB_LOAD_WARNING = {'data': {'text/html':\n",
       "     \"<div style='background-color: #fdd'>\\n\"+\n",
       "     \"<p>\\n\"+\n",
       "     \"BokehJS does not appear to have successfully loaded. If loading BokehJS from CDN, this \\n\"+\n",
       "     \"may be due to a slow or bad network connection. Possible fixes:\\n\"+\n",
       "     \"</p>\\n\"+\n",
       "     \"<ul>\\n\"+\n",
       "     \"<li>re-rerun `output_notebook()` to attempt to load from CDN again, or</li>\\n\"+\n",
       "     \"<li>use INLINE resources instead, as so:</li>\\n\"+\n",
       "     \"</ul>\\n\"+\n",
       "     \"<code>\\n\"+\n",
       "     \"from bokeh.resources import INLINE\\n\"+\n",
       "     \"output_notebook(resources=INLINE)\\n\"+\n",
       "     \"</code>\\n\"+\n",
       "     \"</div>\"}};\n",
       "\n",
       "  function display_loaded() {\n",
       "    if (window.Bokeh !== undefined) {\n",
       "      var el = document.getElementById(\"310499c1-a9e2-47a9-b86f-5811e12db8f2\");\n",
       "      el.textContent = \"BokehJS \" + Bokeh.version + \" successfully loaded.\";\n",
       "    } else if (Date.now() < window._bokeh_timeout) {\n",
       "      setTimeout(display_loaded, 100)\n",
       "    }\n",
       "  }\n",
       "\n",
       "  function run_callbacks() {\n",
       "    try {\n",
       "      window._bokeh_onload_callbacks.forEach(function(callback) { callback() });\n",
       "    }\n",
       "    finally {\n",
       "      delete window._bokeh_onload_callbacks\n",
       "    }\n",
       "    console.info(\"Bokeh: all callbacks have finished\");\n",
       "  }\n",
       "\n",
       "  function load_libs(js_urls, callback) {\n",
       "    window._bokeh_onload_callbacks.push(callback);\n",
       "    if (window._bokeh_is_loading > 0) {\n",
       "      console.log(\"Bokeh: BokehJS is being loaded, scheduling callback at\", now());\n",
       "      return null;\n",
       "    }\n",
       "    if (js_urls == null || js_urls.length === 0) {\n",
       "      run_callbacks();\n",
       "      return null;\n",
       "    }\n",
       "    console.log(\"Bokeh: BokehJS not loaded, scheduling load and callback at\", now());\n",
       "    window._bokeh_is_loading = js_urls.length;\n",
       "    for (var i = 0; i < js_urls.length; i++) {\n",
       "      var url = js_urls[i];\n",
       "      var s = document.createElement('script');\n",
       "      s.src = url;\n",
       "      s.async = false;\n",
       "      s.onreadystatechange = s.onload = function() {\n",
       "        window._bokeh_is_loading--;\n",
       "        if (window._bokeh_is_loading === 0) {\n",
       "          console.log(\"Bokeh: all BokehJS libraries loaded\");\n",
       "          run_callbacks()\n",
       "        }\n",
       "      };\n",
       "      s.onerror = function() {\n",
       "        console.warn(\"failed to load library \" + url);\n",
       "      };\n",
       "      console.log(\"Bokeh: injecting script tag for BokehJS library: \", url);\n",
       "      document.getElementsByTagName(\"head\")[0].appendChild(s);\n",
       "    }\n",
       "  };var element = document.getElementById(\"310499c1-a9e2-47a9-b86f-5811e12db8f2\");\n",
       "  if (element == null) {\n",
       "    console.log(\"Bokeh: ERROR: autoload.js configured with elementid '310499c1-a9e2-47a9-b86f-5811e12db8f2' but no matching script tag was found. \")\n",
       "    return false;\n",
       "  }\n",
       "\n",
       "  var js_urls = [\"https://cdn.pydata.org/bokeh/release/bokeh-0.12.6.min.js\", \"https://cdn.pydata.org/bokeh/release/bokeh-widgets-0.12.6.min.js\"];\n",
       "\n",
       "  var inline_js = [\n",
       "    function(Bokeh) {\n",
       "      Bokeh.set_log_level(\"info\");\n",
       "    },\n",
       "    \n",
       "    function(Bokeh) {\n",
       "      \n",
       "    },\n",
       "    \n",
       "    function(Bokeh) {\n",
       "      \n",
       "      document.getElementById(\"310499c1-a9e2-47a9-b86f-5811e12db8f2\").textContent = \"BokehJS is loading...\";\n",
       "    },\n",
       "    function(Bokeh) {\n",
       "      console.log(\"Bokeh: injecting CSS: https://cdn.pydata.org/bokeh/release/bokeh-0.12.6.min.css\");\n",
       "      Bokeh.embed.inject_css(\"https://cdn.pydata.org/bokeh/release/bokeh-0.12.6.min.css\");\n",
       "      console.log(\"Bokeh: injecting CSS: https://cdn.pydata.org/bokeh/release/bokeh-widgets-0.12.6.min.css\");\n",
       "      Bokeh.embed.inject_css(\"https://cdn.pydata.org/bokeh/release/bokeh-widgets-0.12.6.min.css\");\n",
       "    }\n",
       "  ];\n",
       "\n",
       "  function run_inline_js() {\n",
       "    \n",
       "    if ((window.Bokeh !== undefined) || (force === true)) {\n",
       "      for (var i = 0; i < inline_js.length; i++) {\n",
       "        inline_js[i](window.Bokeh);\n",
       "      }if (force === true) {\n",
       "        display_loaded();\n",
       "      }} else if (Date.now() < window._bokeh_timeout) {\n",
       "      setTimeout(run_inline_js, 100);\n",
       "    } else if (!window._bokeh_failed_load) {\n",
       "      console.log(\"Bokeh: BokehJS failed to load within specified timeout.\");\n",
       "      window._bokeh_failed_load = true;\n",
       "    } else if (force !== true) {\n",
       "      var cell = $(document.getElementById(\"310499c1-a9e2-47a9-b86f-5811e12db8f2\")).parents('.cell').data().cell;\n",
       "      cell.output_area.append_execute_result(NB_LOAD_WARNING)\n",
       "    }\n",
       "\n",
       "  }\n",
       "\n",
       "  if (window._bokeh_is_loading === 0) {\n",
       "    console.log(\"Bokeh: BokehJS loaded, going straight to plotting\");\n",
       "    run_inline_js();\n",
       "  } else {\n",
       "    load_libs(js_urls, function() {\n",
       "      console.log(\"Bokeh: BokehJS plotting callback run at\", now());\n",
       "      run_inline_js();\n",
       "    });\n",
       "  }\n",
       "}(this));"
      ]
     },
     "metadata": {},
     "output_type": "display_data"
    }
   ],
   "source": [
    "output_notebook()"
   ]
  },
  {
   "cell_type": "markdown",
   "metadata": {},
   "source": [
    "### Pair potentials\n",
    "\n",
    "The particles are here assumed to interact via a Lennard-Jones and a screened Coulomb potential,\n",
    "\n",
    "$$\n",
    "\\beta w(r) = \\frac{\\lambda_B z^2}{r} e^{-r/\\lambda_D}\n",
    "+ 4\\beta \\varepsilon_{LJ} \\left ( \\left ( \\frac{\\sigma}{r}\\right )^{12} - \\left ( \\frac{\\sigma}{r}\\right )^{6}\\right )\n",
    "$$\n",
    "\n",
    "where $\\lambda_B$ and $\\lambda_D$ are the Bjerrum and Debye lengths, respectively.\n",
    "Any potential may in principle be given and must return the energy in units of $k_BT$."
   ]
  },
  {
   "cell_type": "markdown",
   "metadata": {},
   "source": [
    "## Define your own potentials below\n",
    "\n",
    "* The name should start with `potential_`\n",
    "* The first parameter should be `r`\n",
    "* The docstring can be added for a nice displayname of the function (The raw python string like `r\"$ \\mu $\"` is convenient when writing latex, because in normal strings the backslash acts as an escape character) "
   ]
  },
  {
   "cell_type": "code",
   "execution_count": 3,
   "metadata": {
    "collapsed": true
   },
   "outputs": [],
   "source": [
    "# Debye-Huckel\n",
    "def potential_Debye_Huckel(r, z, D):\n",
    "    r\"\"\"$\\frac{\\lambda_B z^2}{r} e^{-r/\\lambda_D}$\"\"\"\n",
    "    lB = 7.0 # Bjerrum length, angstroms\n",
    "    return lB * z**2 * np.exp(-r/D) / r\n",
    "\n",
    "# Lennard-Jones\n",
    "def potential_Lennard_Jones(r, eps, sigma):\n",
    "    r\"\"\"$4\\beta \\varepsilon_{LJ} \\left ( \\left ( \\frac{\\sigma}{r}\\right )^{12} - \\left ( \\frac{\\sigma}{r}\\right )^{6}\\right )$\"\"\"\n",
    "    return 4 * eps * ( (sigma/r)**12 - (sigma/r)**6 )\n",
    "\n",
    "# Total potential\n",
    "def potential_Combined(r, z, D, eps, sigma):\n",
    "    r\"\"\"$\\frac{\\lambda_B z^2}{r} e^{-r/\\lambda_D} + 4\\beta \\varepsilon_{LJ} \\left ( \\left ( \\frac{\\sigma}{r}\\right )^{12} - \\left ( \\frac{\\sigma}{r}\\right )^{6}\\right )$\"\"\"\n",
    "    return potential_Debye_Huckel(r, z, D) + potential_Lennard_Jones(r, eps, sigma)"
   ]
  },
  {
   "cell_type": "markdown",
   "metadata": {},
   "source": [
    "### Interaction parameter\n",
    "\n",
    "Here we integrate the above pair potential to get the average interaction energy per particle, assuming that the pair correlation function, $g(r)$, can be described by a simple step function, zero when $r<\\sigma$, unity otherwise:\n",
    "$$ \n",
    "\\hat{a} = -\\frac{1}{2} \\int_{\\sigma}^{\\infty} 4\\pi w(r) r^2 dr\n",
    "$$\n",
    "\n",
    "In this Notebook we simply do the integration numerically so that we can use arbitrary pair potentials.\n",
    "From this we calculate the potential, $μ$, versus density, $n$, using,\n",
    "\n",
    "$$\n",
    "\\beta \\, \\mu_{gvdW} = \\ln \\left( \\frac{1}{y - y_0} \\right) + \\frac{y}{y-y_0} - 2 \\frac{\\hat{a}}{y}\n",
    "$$\n",
    "\n",
    "From this we calculate the pressure, $p$, versus density, $n$, using,\n",
    "\n",
    "where $y=1/n$ and $y_0=\\pi \\sigma^2/2$ is the particle area.\n",
    "\n",
    "For reference we'll also plot Equation of State for an ideal system (van 't Hoff), $\\beta \\mu_{ideal}= \\ln (1/y)$,\n",
    "where $\\beta = 1/k_BT$."
   ]
  },
  {
   "cell_type": "code",
   "execution_count": 29,
   "metadata": {
    "collapsed": true
   },
   "outputs": [],
   "source": [
    "def ahat(potential, **parameters):\n",
    "    sigma = parameters['sigma']\n",
    "    # extract the relevant parameters for the potential\n",
    "    parameters = {k:v for k,v in parameters.items() if k in inspect.signature(potential).parameters}\n",
    "    \n",
    "    def integrand(r):\n",
    "        return potential(r, **parameters) * r**2\n",
    "    integral, error = quad(integrand, sigma, np.infty, limit=50)\n",
    "    return -2 * pi * integral\n",
    "\n",
    "def mu_ideal(n):\n",
    "    return np.log(n)\n",
    "\n",
    "def mu_gvdw(n, z, D, eps, sigma, potential=potential_Combined):\n",
    "    y0 = pi*sigma**2 / 2  # excluded volume\n",
    "    y  = 1 / n \n",
    "    a = ahat(potential, z=z, D=D, eps=eps, sigma=sigma)\n",
    "    return -np.log(y-y0) + y0 / (y - y0) - 2 * a / y"
   ]
  },
  {
   "cell_type": "markdown",
   "metadata": {},
   "source": [
    "### Interactive plot"
   ]
  },
  {
   "cell_type": "code",
   "execution_count": 30,
   "metadata": {
    "collapsed": true
   },
   "outputs": [],
   "source": [
    "n = np.linspace(1e-4, 1e-3, 100);\n",
    "def update(eps=1.0, sigma=4.0, z=1.0, Cs=0.3, potential=potential_Combined):\n",
    "    D = 3.04/sqrt(Cs)\n",
    "    gvdw_line.data_source.data[\"y\"] = mu_gvdw(n, z, D, eps, sigma, potential)\n",
    "    push_notebook(handle=potfig_handle)"
   ]
  },
  {
   "cell_type": "code",
   "execution_count": 31,
   "metadata": {},
   "outputs": [
    {
     "data": {
      "text/html": [
       "\n",
       "\n",
       "    <div class=\"bk-root\">\n",
       "        <div class=\"bk-plotdiv\" id=\"cf8f9d0a-d50b-43ae-9b45-e504a9050304\"></div>\n",
       "    </div>\n",
       "<script type=\"text/javascript\">\n",
       "  \n",
       "  (function(global) {\n",
       "    function now() {\n",
       "      return new Date();\n",
       "    }\n",
       "  \n",
       "    var force = false;\n",
       "  \n",
       "    if (typeof (window._bokeh_onload_callbacks) === \"undefined\" || force === true) {\n",
       "      window._bokeh_onload_callbacks = [];\n",
       "      window._bokeh_is_loading = undefined;\n",
       "    }\n",
       "  \n",
       "  \n",
       "    \n",
       "    if (typeof (window._bokeh_timeout) === \"undefined\" || force === true) {\n",
       "      window._bokeh_timeout = Date.now() + 0;\n",
       "      window._bokeh_failed_load = false;\n",
       "    }\n",
       "  \n",
       "    var NB_LOAD_WARNING = {'data': {'text/html':\n",
       "       \"<div style='background-color: #fdd'>\\n\"+\n",
       "       \"<p>\\n\"+\n",
       "       \"BokehJS does not appear to have successfully loaded. If loading BokehJS from CDN, this \\n\"+\n",
       "       \"may be due to a slow or bad network connection. Possible fixes:\\n\"+\n",
       "       \"</p>\\n\"+\n",
       "       \"<ul>\\n\"+\n",
       "       \"<li>re-rerun `output_notebook()` to attempt to load from CDN again, or</li>\\n\"+\n",
       "       \"<li>use INLINE resources instead, as so:</li>\\n\"+\n",
       "       \"</ul>\\n\"+\n",
       "       \"<code>\\n\"+\n",
       "       \"from bokeh.resources import INLINE\\n\"+\n",
       "       \"output_notebook(resources=INLINE)\\n\"+\n",
       "       \"</code>\\n\"+\n",
       "       \"</div>\"}};\n",
       "  \n",
       "    function display_loaded() {\n",
       "      if (window.Bokeh !== undefined) {\n",
       "        var el = document.getElementById(\"cf8f9d0a-d50b-43ae-9b45-e504a9050304\");\n",
       "        el.textContent = \"BokehJS \" + Bokeh.version + \" successfully loaded.\";\n",
       "      } else if (Date.now() < window._bokeh_timeout) {\n",
       "        setTimeout(display_loaded, 100)\n",
       "      }\n",
       "    }if ((window.Jupyter !== undefined) && Jupyter.notebook.kernel) {\n",
       "      comm_manager = Jupyter.notebook.kernel.comm_manager\n",
       "      comm_manager.register_target(\"2f28887d-8627-44f6-829a-59a341d94a61\", function () {});\n",
       "    }\n",
       "  \n",
       "    function run_callbacks() {\n",
       "      try {\n",
       "        window._bokeh_onload_callbacks.forEach(function(callback) { callback() });\n",
       "      }\n",
       "      finally {\n",
       "        delete window._bokeh_onload_callbacks\n",
       "      }\n",
       "      console.info(\"Bokeh: all callbacks have finished\");\n",
       "    }\n",
       "  \n",
       "    function load_libs(js_urls, callback) {\n",
       "      window._bokeh_onload_callbacks.push(callback);\n",
       "      if (window._bokeh_is_loading > 0) {\n",
       "        console.log(\"Bokeh: BokehJS is being loaded, scheduling callback at\", now());\n",
       "        return null;\n",
       "      }\n",
       "      if (js_urls == null || js_urls.length === 0) {\n",
       "        run_callbacks();\n",
       "        return null;\n",
       "      }\n",
       "      console.log(\"Bokeh: BokehJS not loaded, scheduling load and callback at\", now());\n",
       "      window._bokeh_is_loading = js_urls.length;\n",
       "      for (var i = 0; i < js_urls.length; i++) {\n",
       "        var url = js_urls[i];\n",
       "        var s = document.createElement('script');\n",
       "        s.src = url;\n",
       "        s.async = false;\n",
       "        s.onreadystatechange = s.onload = function() {\n",
       "          window._bokeh_is_loading--;\n",
       "          if (window._bokeh_is_loading === 0) {\n",
       "            console.log(\"Bokeh: all BokehJS libraries loaded\");\n",
       "            run_callbacks()\n",
       "          }\n",
       "        };\n",
       "        s.onerror = function() {\n",
       "          console.warn(\"failed to load library \" + url);\n",
       "        };\n",
       "        console.log(\"Bokeh: injecting script tag for BokehJS library: \", url);\n",
       "        document.getElementsByTagName(\"head\")[0].appendChild(s);\n",
       "      }\n",
       "    };var element = document.getElementById(\"cf8f9d0a-d50b-43ae-9b45-e504a9050304\");\n",
       "    if (element == null) {\n",
       "      console.log(\"Bokeh: ERROR: autoload.js configured with elementid 'cf8f9d0a-d50b-43ae-9b45-e504a9050304' but no matching script tag was found. \")\n",
       "      return false;\n",
       "    }\n",
       "  \n",
       "    var js_urls = [];\n",
       "  \n",
       "    var inline_js = [\n",
       "      function(Bokeh) {\n",
       "        (function() {\n",
       "          var fn = function() {\n",
       "            var docs_json = {\"e38b43cf-8fd0-48c3-9f13-c1ac14afdab7\":{\"roots\":{\"references\":[{\"attributes\":{\"plot\":{\"id\":\"c6aa52e8-060d-42b1-9d8f-084a61a637a6\",\"subtype\":\"Figure\",\"type\":\"Plot\"},\"ticker\":{\"id\":\"3b1fd23e-76f6-4b4b-9585-6d31e25bfd34\",\"type\":\"BasicTicker\"}},\"id\":\"746cf951-0fdd-453b-b875-2b21391cbde0\",\"type\":\"Grid\"},{\"attributes\":{\"callback\":null,\"column_names\":[\"x\",\"y\"],\"data\":{\"x\":{\"__ndarray__\":\"LUMc6+I2Gj/r1B6M95gcP6pmIS0M+x4/NPwRZ5CuID8TRZO3mt8hP/KNFAilECM/0daVWK9BJD+wHxepuXIlP5BomPnDoyY/brEZSs7UJz9O+pqa2AUpPy1DHOviNio/DIydO+1nKz/r1B6M95gsP8odoNwByi0/qmYhLQz7Lj/EV9E+CxYwPzT8EWeQrjA/o6BSjxVHMT8TRZO3mt8xP4Lp098feDI/8o0UCKUQMz9iMlUwKqkzP9HWlVivQTQ/QXvWgDTaND+wHxepuXI1PyDEV9E+CzY/j2iY+cOjNj//DNkhSTw3P26xGUrO1Dc/3lVaclNtOD9N+pqa2AU5P72e28Jdnjk/LUMc6+I2Oj+c51wTaM86PwyMnTvtZzs/ezDeY3IAPD/r1B6M95g8P1p5X7R8MT0/yh2g3AHKPT85wuAEh2I+P6lmIS0M+z4/GQtiVZGTPz/EV9E+CxZAP/yp8dJNYkA/NPwRZ5CuQD9sTjL70vpAP6OgUo8VR0E/2/JyI1iTQT8TRZO3mt9BP0uXs0vdK0I/g+nT3x94Qj+6O/RzYsRCP/KNFAilEEM/KuA0nOdcQz9iMlUwKqlDP5qEdcRs9UM/0taVWK9BRD8JKbbs8Y1EP0F71oA02kQ/ec32FHcmRT+xHxepuXJFP+hxNz38vkU/IMRX0T4LRj9YFnhlgVdGP5BomPnDo0Y/yLq4jQbwRj//DNkhSTxHPzdf+bWLiEc/b7EZSs7URz+nAzreECFIP95VWnJTbUg/Fqh6Bpa5SD9O+pqa2AVJP4ZMuy4bUkk/vp7bwl2eST/18PtWoOpJPy1DHOviNko/ZZU8fyWDSj+d51wTaM9KP9Q5faeqG0s/DIydO+1nSz9E3r3PL7RLP3ww3mNyAEw/tIL+97RMTD/r1B6M95hMPyMnPyA65Uw/W3lftHwxTT+Ty39Iv31NP8sdoNwByk0/AnDAcEQWTj86wuAEh2JOP3IUAZnJrk4/qmYhLQz7Tj/huEHBTkdPPxkLYlWRk08/UV2C6dPfTz/EV9E+CxZQP+CA4YgsPFA//Knx0k1iUD8=\",\"dtype\":\"float64\",\"shape\":[100]},\"y\":{\"__ndarray__\":\"FVW1u7FrIsBJO2D6JD8iwNS/yJ4pFiLA/zPfIzjwIcDh0EEb5cwhwG2U1unZqyHACoMWuc+MIcCHPvrai28hwB32EyjdUyHABCq4Cpo5IcA8N3kEnyAhwHexxYvNCCHA7LUgKgvyIMCql3DKQNwgwJy/mStaxyDANRzZbkWzIMDEQZS78p8gwGCQ7/NTjSDAYaOhdlx7IMBCLVLrAGogwBLYcBc3WSDAzvDmufVIIMC0tF9sNDkgwGvfJonrKSDA9yXRFBQbIMDomgqrpwwgwPLhDNxA/R/A/aRI8PHhH8DmPuaeWMcfwMoMkbVrrR/Aqu9isCKUH8A7JxOpdXsfwMjPH0hdYx/Arxust9JLH8D/YNiXzzQfwJskYvRNHh/Ads1hO0gIH8AX6AE1ufIewKUYEfyb3R7A+TdU9+vIHsBRxYHTpLQewC3x0n3CoB7AeycZH0GNHsBLPEkXHXoewN5Gb/lSZx7Agdn/h99UHsB4q3yxv0IewIT/Y43wMB7AWBxjWW8fHsBGE8V2OQ4ewMTZF2hM/R3A5mgCz6XsHcC2LUdqQ9wdwF2a7hMjzB3AWxyWv0K8HcAqIuB4oKwdwKM0AmI6nR3AmHdusg6OHcAWK5a1G38dwLAEw8lfcB3ACG8FX9lhHcCS7jX2hlMdwOsVCCBnRR3AtJotfHg3HcB0Poi4uSkdwL9daZApHB3AlRPey8YOHcCo9wY/kAEdwF6UesmE9BzAjMWxVaPnHMDGQn3Y6tocwGyog1BazhzAT2HHxfDBHMD93zNJrbUcwMeiMfSOqRzAiohA6JSdHMD/BZhOvpEcwHHUzFcKhhzA27p7O3h6HMDBGfk3B28cwBPpBJK2YxzAXd2ClIVYHMBhbzaQc00cwDiGgtt/QhzA7ogs0qk3HMDZoCLV8CwcwNn5REpUIhzAZ9ExnNMXHMCmKBQ6bg0cwLvwdJcjAxzAoIsOLPP4G8ATfqJz3O4bwOUx0e3e5BvA76nzHfraG8AsC/eKLdEbwD7gOb94xxvAdf5qSNu9G8AN9Wm3VLQbwMvwKKDkqhvAoP+PmYqhG8A=\",\"dtype\":\"float64\",\"shape\":[100]}}},\"id\":\"20fab0f3-ff89-4a98-b62d-022baea70b39\",\"type\":\"ColumnDataSource\"},{\"attributes\":{\"line_color\":{\"value\":\"#1f77b4\"},\"x\":{\"field\":\"x\"},\"y\":{\"field\":\"y\"}},\"id\":\"4cfcb51a-5473-4198-88b1-7f5ce23822f0\",\"type\":\"Line\"},{\"attributes\":{\"line_alpha\":{\"value\":0.1},\"line_color\":{\"value\":\"#1f77b4\"},\"x\":{\"field\":\"x\"},\"y\":{\"field\":\"y\"}},\"id\":\"f15ddacc-f963-40d9-bfd6-6fc2497c1b7f\",\"type\":\"Line\"},{\"attributes\":{\"plot\":{\"id\":\"c6aa52e8-060d-42b1-9d8f-084a61a637a6\",\"subtype\":\"Figure\",\"type\":\"Plot\"}},\"id\":\"a06f1699-a8c3-4bb3-9db3-414ba09ff334\",\"type\":\"PanTool\"},{\"attributes\":{\"plot\":{\"id\":\"c6aa52e8-060d-42b1-9d8f-084a61a637a6\",\"subtype\":\"Figure\",\"type\":\"Plot\"}},\"id\":\"5d23ee44-bcc3-4029-b40b-ea526d78b218\",\"type\":\"WheelZoomTool\"},{\"attributes\":{\"bottom_units\":\"screen\",\"fill_alpha\":{\"value\":0.5},\"fill_color\":{\"value\":\"lightgrey\"},\"left_units\":\"screen\",\"level\":\"overlay\",\"line_alpha\":{\"value\":1.0},\"line_color\":{\"value\":\"black\"},\"line_dash\":[4,4],\"line_width\":{\"value\":2},\"plot\":null,\"render_mode\":\"css\",\"right_units\":\"screen\",\"top_units\":\"screen\"},\"id\":\"94a5e64d-3ba2-4ecf-a07a-15e4c067f106\",\"type\":\"BoxAnnotation\"},{\"attributes\":{\"plot\":{\"id\":\"c6aa52e8-060d-42b1-9d8f-084a61a637a6\",\"subtype\":\"Figure\",\"type\":\"Plot\"}},\"id\":\"9ef0033c-6aea-45e9-a404-a2bba050ff44\",\"type\":\"SaveTool\"},{\"attributes\":{\"plot\":{\"id\":\"c6aa52e8-060d-42b1-9d8f-084a61a637a6\",\"subtype\":\"Figure\",\"type\":\"Plot\"}},\"id\":\"5a6ad53b-bdef-47b6-97a0-768db42853d8\",\"type\":\"ResetTool\"},{\"attributes\":{\"overlay\":{\"id\":\"94a5e64d-3ba2-4ecf-a07a-15e4c067f106\",\"type\":\"BoxAnnotation\"},\"plot\":{\"id\":\"c6aa52e8-060d-42b1-9d8f-084a61a637a6\",\"subtype\":\"Figure\",\"type\":\"Plot\"}},\"id\":\"23a3edf5-ac0e-4efd-987d-001452de5183\",\"type\":\"BoxZoomTool\"},{\"attributes\":{\"dimension\":1,\"plot\":{\"id\":\"c6aa52e8-060d-42b1-9d8f-084a61a637a6\",\"subtype\":\"Figure\",\"type\":\"Plot\"},\"ticker\":{\"id\":\"45d910e7-c3f9-455a-9968-6bfb0488be8d\",\"type\":\"BasicTicker\"}},\"id\":\"ea8a17b1-1b67-4cac-b9ee-8d3835fbb3b2\",\"type\":\"Grid\"},{\"attributes\":{\"axis_label\":\"Potential (k T)\",\"formatter\":{\"id\":\"2be5fd66-7e41-4326-901a-92b576f2658c\",\"type\":\"BasicTickFormatter\"},\"plot\":{\"id\":\"c6aa52e8-060d-42b1-9d8f-084a61a637a6\",\"subtype\":\"Figure\",\"type\":\"Plot\"},\"ticker\":{\"id\":\"45d910e7-c3f9-455a-9968-6bfb0488be8d\",\"type\":\"BasicTicker\"}},\"id\":\"ee3a6e5e-c7a2-457c-8996-1c31161dac71\",\"type\":\"LinearAxis\"},{\"attributes\":{\"plot\":{\"id\":\"c6aa52e8-060d-42b1-9d8f-084a61a637a6\",\"subtype\":\"Figure\",\"type\":\"Plot\"}},\"id\":\"ac55ec98-e454-41cd-9ebf-1b803e643c8b\",\"type\":\"HelpTool\"},{\"attributes\":{\"items\":[{\"id\":\"0f835c73-b96a-4caa-9817-142681b8113d\",\"type\":\"LegendItem\"},{\"id\":\"f1181151-f958-4a54-8d1d-751980f378cf\",\"type\":\"LegendItem\"}],\"plot\":{\"id\":\"c6aa52e8-060d-42b1-9d8f-084a61a637a6\",\"subtype\":\"Figure\",\"type\":\"Plot\"}},\"id\":\"efcbadbe-d93a-4f7a-87c5-3ba9d1434252\",\"type\":\"Legend\"},{\"attributes\":{},\"id\":\"2be5fd66-7e41-4326-901a-92b576f2658c\",\"type\":\"BasicTickFormatter\"},{\"attributes\":{},\"id\":\"f69a39a3-ac14-4b60-923c-14b7c45fe2e4\",\"type\":\"BasicTickFormatter\"},{\"attributes\":{\"line_color\":{\"value\":\"green\"},\"x\":{\"field\":\"x\"},\"y\":{\"field\":\"y\"}},\"id\":\"9abf31c2-1ad3-4e7b-8348-62251ac4c87e\",\"type\":\"Line\"},{\"attributes\":{\"data_source\":{\"id\":\"20fab0f3-ff89-4a98-b62d-022baea70b39\",\"type\":\"ColumnDataSource\"},\"glyph\":{\"id\":\"4cfcb51a-5473-4198-88b1-7f5ce23822f0\",\"type\":\"Line\"},\"hover_glyph\":null,\"muted_glyph\":null,\"nonselection_glyph\":{\"id\":\"f15ddacc-f963-40d9-bfd6-6fc2497c1b7f\",\"type\":\"Line\"},\"selection_glyph\":null},\"id\":\"5b91905e-2adf-4ab1-866d-f57e4cef9b5d\",\"type\":\"GlyphRenderer\"},{\"attributes\":{\"data_source\":{\"id\":\"49feeac3-737c-40a6-bcfa-94228d10134e\",\"type\":\"ColumnDataSource\"},\"glyph\":{\"id\":\"9abf31c2-1ad3-4e7b-8348-62251ac4c87e\",\"type\":\"Line\"},\"hover_glyph\":null,\"muted_glyph\":null,\"nonselection_glyph\":{\"id\":\"040c766c-a0c2-483a-8160-3ff22d00aa1a\",\"type\":\"Line\"},\"selection_glyph\":null},\"id\":\"9a1d6860-6572-4a88-90cf-b9b6bd7d7518\",\"type\":\"GlyphRenderer\"},{\"attributes\":{\"label\":{\"value\":\"Ideal\"},\"renderers\":[{\"id\":\"5b91905e-2adf-4ab1-866d-f57e4cef9b5d\",\"type\":\"GlyphRenderer\"}]},\"id\":\"0f835c73-b96a-4caa-9817-142681b8113d\",\"type\":\"LegendItem\"},{\"attributes\":{\"label\":{\"value\":\"GvdW\"},\"renderers\":[{\"id\":\"9a1d6860-6572-4a88-90cf-b9b6bd7d7518\",\"type\":\"GlyphRenderer\"}]},\"id\":\"f1181151-f958-4a54-8d1d-751980f378cf\",\"type\":\"LegendItem\"},{\"attributes\":{},\"id\":\"45d910e7-c3f9-455a-9968-6bfb0488be8d\",\"type\":\"BasicTicker\"},{\"attributes\":{\"line_alpha\":{\"value\":0.1},\"line_color\":{\"value\":\"#1f77b4\"},\"x\":{\"field\":\"x\"},\"y\":{\"field\":\"y\"}},\"id\":\"040c766c-a0c2-483a-8160-3ff22d00aa1a\",\"type\":\"Line\"},{\"attributes\":{\"callback\":null},\"id\":\"149fee6c-ffba-433f-b974-2b61ee39b72f\",\"type\":\"DataRange1d\"},{\"attributes\":{\"below\":[{\"id\":\"97cfc655-9fc6-4169-86bd-7e088797fc16\",\"type\":\"LinearAxis\"}],\"left\":[{\"id\":\"ee3a6e5e-c7a2-457c-8996-1c31161dac71\",\"type\":\"LinearAxis\"}],\"plot_height\":300,\"renderers\":[{\"id\":\"97cfc655-9fc6-4169-86bd-7e088797fc16\",\"type\":\"LinearAxis\"},{\"id\":\"746cf951-0fdd-453b-b875-2b21391cbde0\",\"type\":\"Grid\"},{\"id\":\"ee3a6e5e-c7a2-457c-8996-1c31161dac71\",\"type\":\"LinearAxis\"},{\"id\":\"ea8a17b1-1b67-4cac-b9ee-8d3835fbb3b2\",\"type\":\"Grid\"},{\"id\":\"94a5e64d-3ba2-4ecf-a07a-15e4c067f106\",\"type\":\"BoxAnnotation\"},{\"id\":\"efcbadbe-d93a-4f7a-87c5-3ba9d1434252\",\"type\":\"Legend\"},{\"id\":\"5b91905e-2adf-4ab1-866d-f57e4cef9b5d\",\"type\":\"GlyphRenderer\"},{\"id\":\"9a1d6860-6572-4a88-90cf-b9b6bd7d7518\",\"type\":\"GlyphRenderer\"}],\"title\":{\"id\":\"66c9d7b0-d8c5-4592-accf-a9c7d65a1c10\",\"type\":\"Title\"},\"tool_events\":{\"id\":\"0c250322-cdfb-4073-a330-724246aa8447\",\"type\":\"ToolEvents\"},\"toolbar\":{\"id\":\"78926025-b539-46d2-8ccd-ecd168f1cfc4\",\"type\":\"Toolbar\"},\"x_range\":{\"id\":\"149fee6c-ffba-433f-b974-2b61ee39b72f\",\"type\":\"DataRange1d\"},\"x_scale\":{\"id\":\"a0ce8d84-53d8-44e1-b885-c66da7397dfd\",\"type\":\"LinearScale\"},\"y_range\":{\"id\":\"2083d192-fb1a-4fdf-90f1-f06467b03749\",\"type\":\"DataRange1d\"},\"y_scale\":{\"id\":\"a63b9c29-f0b2-4a0f-ac4a-abcc9a2126ba\",\"type\":\"LinearScale\"}},\"id\":\"c6aa52e8-060d-42b1-9d8f-084a61a637a6\",\"subtype\":\"Figure\",\"type\":\"Plot\"},{\"attributes\":{\"callback\":null,\"column_names\":[\"x\",\"y\"],\"data\":{\"x\":{\"__ndarray__\":\"LUMc6+I2Gj/r1B6M95gcP6pmIS0M+x4/NPwRZ5CuID8TRZO3mt8hP/KNFAilECM/0daVWK9BJD+wHxepuXIlP5BomPnDoyY/brEZSs7UJz9O+pqa2AUpPy1DHOviNio/DIydO+1nKz/r1B6M95gsP8odoNwByi0/qmYhLQz7Lj/EV9E+CxYwPzT8EWeQrjA/o6BSjxVHMT8TRZO3mt8xP4Lp098feDI/8o0UCKUQMz9iMlUwKqkzP9HWlVivQTQ/QXvWgDTaND+wHxepuXI1PyDEV9E+CzY/j2iY+cOjNj//DNkhSTw3P26xGUrO1Dc/3lVaclNtOD9N+pqa2AU5P72e28Jdnjk/LUMc6+I2Oj+c51wTaM86PwyMnTvtZzs/ezDeY3IAPD/r1B6M95g8P1p5X7R8MT0/yh2g3AHKPT85wuAEh2I+P6lmIS0M+z4/GQtiVZGTPz/EV9E+CxZAP/yp8dJNYkA/NPwRZ5CuQD9sTjL70vpAP6OgUo8VR0E/2/JyI1iTQT8TRZO3mt9BP0uXs0vdK0I/g+nT3x94Qj+6O/RzYsRCP/KNFAilEEM/KuA0nOdcQz9iMlUwKqlDP5qEdcRs9UM/0taVWK9BRD8JKbbs8Y1EP0F71oA02kQ/ec32FHcmRT+xHxepuXJFP+hxNz38vkU/IMRX0T4LRj9YFnhlgVdGP5BomPnDo0Y/yLq4jQbwRj//DNkhSTxHPzdf+bWLiEc/b7EZSs7URz+nAzreECFIP95VWnJTbUg/Fqh6Bpa5SD9O+pqa2AVJP4ZMuy4bUkk/vp7bwl2eST/18PtWoOpJPy1DHOviNko/ZZU8fyWDSj+d51wTaM9KP9Q5faeqG0s/DIydO+1nSz9E3r3PL7RLP3ww3mNyAEw/tIL+97RMTD/r1B6M95hMPyMnPyA65Uw/W3lftHwxTT+Ty39Iv31NP8sdoNwByk0/AnDAcEQWTj86wuAEh2JOP3IUAZnJrk4/qmYhLQz7Tj/huEHBTkdPPxkLYlWRk08/UV2C6dPfTz/EV9E+CxZQP+CA4YgsPFA//Knx0k1iUD8=\",\"dtype\":\"float64\",\"shape\":[100]},\"y\":{\"__ndarray__\":\"YIlc0LeNIsDHEK/CQmQiwKIRdBVfPiLAIAmbQ4UbIsAXXMHeSfshwAM0zEtW3SHApsAztGPBIcD/zu9pN6chwEa5kUWgjiHAhCptsXR3IcBYqhMvkWEhwOf28jTXTCHArFeNTCw5IcDJSchgeSYhwAxghzCqFCHAobIG3awDIcBb/6qNcfMgwKfPlyTq4yDABuiCAArVIMDqIxPJxcYgwCtWt0MTuSDAXfRXL+mrIMAqZJ8lP58gwG+J2IANkyDAPUGXRU2HIMD7xYYP+HsgwBFy2QAIcSDATBfus3dmIMDxvNIuQlwgwKo4XNhiUiDA4KGWbtVIIMApv1z+lT8gwDTF7NugNiDAinNXnPItIMBbG6wPiCUgwBSlyDteHSDA9Wm4V3IVIMDc1Y/HwQ0gwENgtRhKBiDAnzUV/RH+H8BL1NOe+O8fwLkW3gNE4h/AI7IDVfDUH8B/wzfy+ccfwJqqhG5dux/A5UFdjBevH8BpiEE6JaMfwEsIro+Dlx/APk9Oyi+MH8AwtWtLJ4EfwNd1kpVndh/AH9BnSu5rH8CJdqwouWEfwFYgZwrGVx/AtX8z4xJOH8BuR7K+nUQfwEpEF79kOx/Ao93SG2YyH8CrllQgoCkfwLtn5CoRIR/A0v2Qq7cYH8BjHzEjkhAfwKKgdiKfCB/AZXgRSd0AH8AFqeFES/kewILPNtHn8R7A6EYctrHqHsCM5rDHp+MewBV4ieXI3B7ANhYd+hPWHsD7tjr6h88ewNY0h+QjyR7ASTgDwebCHsApcZigz7wewLGarZzdth7AO9DA1g+xHsCawgd4ZasewNJmFbHdpR7ALb+EuXegHsAZZ6jPMpsewA2RPjgOlh7AtispPgmRHsCM6SkyI4wewP3qoWpbhx7ABtBUQ7GCHsCB+i4dJH4ewHHODl6zeR7AC8GQcF51HsDECt7DJHEewLLTfcsFbR7AVLQo/wBpHsCJZ57aFWUewNyMfd1DYR7AeFwdi4pdHsBCMGlq6VkewGHHvQVgVh7AQivI6u1SHsDUHmaqkk8ewCkCiNhNTB7AGhYUDB9JHsA=\",\"dtype\":\"float64\",\"shape\":[100]}}},\"id\":\"49feeac3-737c-40a6-bcfa-94228d10134e\",\"type\":\"ColumnDataSource\"},{\"attributes\":{\"plot\":null,\"text\":\"Excess potential\"},\"id\":\"66c9d7b0-d8c5-4592-accf-a9c7d65a1c10\",\"type\":\"Title\"},{\"attributes\":{},\"id\":\"3b1fd23e-76f6-4b4b-9585-6d31e25bfd34\",\"type\":\"BasicTicker\"},{\"attributes\":{\"callback\":null},\"id\":\"2083d192-fb1a-4fdf-90f1-f06467b03749\",\"type\":\"DataRange1d\"},{\"attributes\":{},\"id\":\"a0ce8d84-53d8-44e1-b885-c66da7397dfd\",\"type\":\"LinearScale\"},{\"attributes\":{},\"id\":\"0c250322-cdfb-4073-a330-724246aa8447\",\"type\":\"ToolEvents\"},{\"attributes\":{\"active_drag\":\"auto\",\"active_inspect\":\"auto\",\"active_scroll\":\"auto\",\"active_tap\":\"auto\",\"tools\":[{\"id\":\"a06f1699-a8c3-4bb3-9db3-414ba09ff334\",\"type\":\"PanTool\"},{\"id\":\"5d23ee44-bcc3-4029-b40b-ea526d78b218\",\"type\":\"WheelZoomTool\"},{\"id\":\"23a3edf5-ac0e-4efd-987d-001452de5183\",\"type\":\"BoxZoomTool\"},{\"id\":\"9ef0033c-6aea-45e9-a404-a2bba050ff44\",\"type\":\"SaveTool\"},{\"id\":\"5a6ad53b-bdef-47b6-97a0-768db42853d8\",\"type\":\"ResetTool\"},{\"id\":\"ac55ec98-e454-41cd-9ebf-1b803e643c8b\",\"type\":\"HelpTool\"}]},\"id\":\"78926025-b539-46d2-8ccd-ecd168f1cfc4\",\"type\":\"Toolbar\"},{\"attributes\":{},\"id\":\"a63b9c29-f0b2-4a0f-ac4a-abcc9a2126ba\",\"type\":\"LinearScale\"},{\"attributes\":{\"axis_label\":\"Number density n\",\"formatter\":{\"id\":\"f69a39a3-ac14-4b60-923c-14b7c45fe2e4\",\"type\":\"BasicTickFormatter\"},\"plot\":{\"id\":\"c6aa52e8-060d-42b1-9d8f-084a61a637a6\",\"subtype\":\"Figure\",\"type\":\"Plot\"},\"ticker\":{\"id\":\"3b1fd23e-76f6-4b4b-9585-6d31e25bfd34\",\"type\":\"BasicTicker\"}},\"id\":\"97cfc655-9fc6-4169-86bd-7e088797fc16\",\"type\":\"LinearAxis\"}],\"root_ids\":[\"c6aa52e8-060d-42b1-9d8f-084a61a637a6\"]},\"title\":\"Bokeh Application\",\"version\":\"0.12.6\"}};\n",
       "            var render_items = [{\"docid\":\"e38b43cf-8fd0-48c3-9f13-c1ac14afdab7\",\"elementid\":\"cf8f9d0a-d50b-43ae-9b45-e504a9050304\",\"modelid\":\"c6aa52e8-060d-42b1-9d8f-084a61a637a6\",\"notebook_comms_target\":\"2f28887d-8627-44f6-829a-59a341d94a61\"}];\n",
       "            \n",
       "            Bokeh.embed.embed_items(docs_json, render_items);\n",
       "          };\n",
       "          if (document.readyState != \"loading\") fn();\n",
       "          else document.addEventListener(\"DOMContentLoaded\", fn);\n",
       "        })();\n",
       "      },\n",
       "      function(Bokeh) {\n",
       "      }\n",
       "    ];\n",
       "  \n",
       "    function run_inline_js() {\n",
       "      \n",
       "      if ((window.Bokeh !== undefined) || (force === true)) {\n",
       "        for (var i = 0; i < inline_js.length; i++) {\n",
       "          inline_js[i](window.Bokeh);\n",
       "        }if (force === true) {\n",
       "          display_loaded();\n",
       "        }} else if (Date.now() < window._bokeh_timeout) {\n",
       "        setTimeout(run_inline_js, 100);\n",
       "      } else if (!window._bokeh_failed_load) {\n",
       "        console.log(\"Bokeh: BokehJS failed to load within specified timeout.\");\n",
       "        window._bokeh_failed_load = true;\n",
       "      } else if (force !== true) {\n",
       "        var cell = $(document.getElementById(\"cf8f9d0a-d50b-43ae-9b45-e504a9050304\")).parents('.cell').data().cell;\n",
       "        cell.output_area.append_execute_result(NB_LOAD_WARNING)\n",
       "      }\n",
       "  \n",
       "    }\n",
       "  \n",
       "    if (window._bokeh_is_loading === 0) {\n",
       "      console.log(\"Bokeh: BokehJS loaded, going straight to plotting\");\n",
       "      run_inline_js();\n",
       "    } else {\n",
       "      load_libs(js_urls, function() {\n",
       "        console.log(\"Bokeh: BokehJS plotting callback run at\", now());\n",
       "        run_inline_js();\n",
       "      });\n",
       "    }\n",
       "  }(this));\n",
       "</script>"
      ]
     },
     "metadata": {},
     "output_type": "display_data"
    }
   ],
   "source": [
    "potfig = figure(\n",
    "    title=\"Chemical potential\",\n",
    "    plot_height=300, \n",
    "    plot_width=600,\n",
    "    x_axis_label=\"Number density n\", \n",
    "    y_axis_label=\"Potential (k T)\")\n",
    "ideal_line = potfig.line(n, mu_ideal(n), legend=\"Ideal\")\n",
    "gvdw_line = potfig.line(n, mu_gvdw(n, z=0, D=3.04/sqrt(0.3), eps=1, sigma=4, potential=potential_Combined), color=\"green\", legend=\"GvdW\")\n",
    "potfig_handle = show(potfig, notebook_handle=True)"
   ]
  },
  {
   "cell_type": "code",
   "execution_count": 19,
   "metadata": {},
   "outputs": [
    {
     "data": {
      "application/vnd.jupyter.widget-view+json": {
       "model_id": "cf760c61afe34c00b47caa6dba57c0b6"
      }
     },
     "metadata": {},
     "output_type": "display_data"
    }
   ],
   "source": [
    "_potentials = {fname[10:]: func for fname, func in globals().items() if fname.startswith(\"potential_\")}\n",
    "interact(update, eps=(0.0, 10.0, 0.1), sigma=(0, 5, 0.1), z=(0.0, 3, 1.0), Cs=(1e-3, 1.0, 0.1), potential=_potentials);"
   ]
  },
  {
   "cell_type": "markdown",
   "metadata": {},
   "source": [
    "# With Data"
   ]
  },
  {
   "cell_type": "code",
   "execution_count": 10,
   "metadata": {
    "collapsed": true
   },
   "outputs": [],
   "source": [
    "with open(\"datafile.csv\", \"wt\") as stream:\n",
    "    stream.write(\"\"\"\\\n",
    "length potential proteins density\n",
    "1.414000000000000000e+03 1.429585460731450097e-01 2.000000000000000000e+01 1.000302091231552026e+03\n",
    "9.990000000000000000e+02 2.990882091428900269e-01 2.000000000000000000e+01 2.004006008010011783e+03\n",
    "8.160000000000000000e+02 4.684432472751309806e-01 2.000000000000000000e+01 3.003652441368703876e+03\n",
    "6.320000000000000000e+02 8.629727385734929923e-01 2.000000000000000000e+01 5.007210382951449901e+03\n",
    "5.340000000000000000e+02 1.353602607621670062e+00 2.000000000000000000e+01 7.013704779138435697e+03\n",
    "4.710000000000000000e+02 1.970895704549270100e+00 2.000000000000000000e+01 9.015466031977857710e+03\n",
    "4.260000000000000000e+02 2.788653065634310035e+00 2.000000000000000000e+01 1.102074103462716812e+04\n",
    "3.920000000000000000e+02 3.842403663548089821e+00 2.000000000000000000e+01 1.301541024573094546e+04\"\"\")"
   ]
  },
  {
   "cell_type": "code",
   "execution_count": 11,
   "metadata": {
    "collapsed": true
   },
   "outputs": [],
   "source": [
    "df = pd.read_csv(\"datafile.csv\", delimiter=\"(?:\\s+|,)\", engine=\"python\")"
   ]
  }
 ],
 "metadata": {
  "anaconda-cloud": {},
  "environment": {
   "channels": [
    "conda-forge",
    "defaults"
   ],
   "dependencies": [
    "ca-certificates=2017.7.27.1=0",
    "certifi=2017.7.27.1=py36_0",
    "cycler=0.10.0=py36_0",
    "freetype=2.7=1",
    "libpng=1.6.28=0",
    "matplotlib=2.0.2=py36_2",
    "ncurses=5.9=10",
    "openssl=1.0.2l=0",
    "pandas=0.20.3=py36_1",
    "pip=9.0.1=py36_0",
    "pyparsing=2.2.0=py36_0",
    "python=3.6.2=0",
    "python-dateutil=2.6.1=py36_0",
    "pytz=2017.2=py36_0",
    "readline=6.2=0",
    "setuptools=36.2.2=py36_0",
    "six=1.10.0=py36_1",
    "sqlite=3.13.0=1",
    "tk=8.5.19=2",
    "tornado=4.5.1=py36_0",
    "wheel=0.29.0=py36_0",
    "xz=5.2.3=0",
    "zlib=1.2.11=0",
    "mkl=2017.0.3=0",
    "numpy=1.13.1=py36_0"
   ],
   "name": "interactive-2d-gvdw",
   "prefix": "/Users/niels/anaconda3/envs/interactive-2d-gvdw"
  },
  "kernelspec": {
   "display_name": "Python [default]",
   "language": "python",
   "name": "python3"
  },
  "language_info": {
   "codemirror_mode": {
    "name": "ipython",
    "version": 3
   },
   "file_extension": ".py",
   "mimetype": "text/x-python",
   "name": "python",
   "nbconvert_exporter": "python",
   "pygments_lexer": "ipython3",
   "version": "3.6.1"
  },
  "widgets": {
   "state": {
    "bb6ce5f633ef4963b9bf16b92bf3ac8f": {
     "views": [
      {
       "cell_index": 8
      }
     ]
    }
   },
   "version": "1.2.0"
  }
 },
 "nbformat": 4,
 "nbformat_minor": 1
}
