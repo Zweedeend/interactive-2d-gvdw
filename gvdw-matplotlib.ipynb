{
 "cells": [
  {
   "cell_type": "markdown",
   "metadata": {},
   "source": [
    "# Equation of State using Generalized van der Waals Theory\n",
    "\n",
    "This notebook illustrates the generalized van der Waals theory (gvdW) for the equation of state for interacting particles. Based on the lecture notes, _Properties of Molecular Fluids in Equilibrium_ by Sture Nordholm."
   ]
  },
  {
   "cell_type": "code",
   "execution_count": 7,
   "metadata": {},
   "outputs": [],
   "source": [
    "import inspect\n",
    "from math import sqrt, pi\n",
    "\n",
    "import matplotlib.pyplot as plt\n",
    "import numpy as np\n",
    "import pandas as pd\n",
    "from ipywidgets import interact\n",
    "from ipywidgets.widgets import FloatSlider, IntSlider\n",
    "from scipy.integrate import quad\n",
    "plt.rcParams.update({'font.size': 16})"
   ]
  },
  {
   "cell_type": "markdown",
   "metadata": {},
   "source": [
    "### Pair potentials\n",
    "\n",
    "The particles are here assumed to interact via a Lennard-Jones and a screened Coulomb potential,\n",
    "\n",
    "$$\n",
    "\\beta w(r) = \\frac{\\lambda_B z^2}{r} e^{-r/\\lambda_D}\n",
    "+ 4\\beta \\varepsilon_{LJ} \\left ( \\left ( \\frac{\\sigma}{r}\\right )^{12} - \\left ( \\frac{\\sigma}{r}\\right )^{6}\\right )\n",
    "$$\n",
    "\n",
    "where $\\lambda_B$ and $\\lambda_D$ are the Bjerrum and Debye lengths, respectively.\n",
    "Any potential may in principle be given and must return the energy in units of $k_BT$."
   ]
  },
  {
   "cell_type": "markdown",
   "metadata": {},
   "source": [
    "## Define your own potentials below\n",
    "\n",
    "* The name should start with `potential_`\n",
    "* The first parameter should be `r`\n",
    "* The docstring can be added for a nice displayname of the function (The raw python string like `r\"$ \\mu $\"` is convenient when writing latex, because in normal strings the backslash acts as an escape character) "
   ]
  },
  {
   "cell_type": "code",
   "execution_count": 8,
   "metadata": {
    "collapsed": true
   },
   "outputs": [],
   "source": [
    "# Debye-Huckel\n",
    "def potential_Debye_Huckel(r, z, D):\n",
    "    r\"\"\"$\\frac{\\lambda_B z^2}{r} e^{-r/\\lambda_D}$\"\"\"\n",
    "    lB = 7.0 # Bjerrum length, angstroms\n",
    "    return lB * z**2 * np.exp(-r/D) / r\n",
    "\n",
    "# Lennard-Jones\n",
    "def potential_Lennard_Jones(r, eps, sigma):\n",
    "    r\"\"\"$4\\beta \\varepsilon_{LJ} \\left ( \\left ( \\frac{\\sigma}{r}\\right )^{12} - \\left ( \\frac{\\sigma}{r}\\right )^{6}\\right )$\"\"\"\n",
    "    return 4 * eps * ( (sigma/r)**12 - (sigma/r)**6 )\n",
    "\n",
    "# Total potential\n",
    "def potential_Combined(r, z, D, eps, sigma):\n",
    "    r\"\"\"$\\frac{\\lambda_B z^2}{r} e^{-r/\\lambda_D} + 4\\beta \\varepsilon_{LJ} \\left ( \\left ( \\frac{\\sigma}{r}\\right )^{12} - \\left ( \\frac{\\sigma}{r}\\right )^{6}\\right )$\"\"\"\n",
    "    return potential_Debye_Huckel(r, z, D) + potential_Lennard_Jones(r, eps, sigma)"
   ]
  },
  {
   "cell_type": "markdown",
   "metadata": {},
   "source": [
    "### Interaction parameter\n",
    "\n",
    "Here we integrate the above pair potential to get the average interaction energy per particle, assuming that the pair correlation function, $g(r)$, can be described by a simple step function, zero when $r<\\sigma$, unity otherwise:\n",
    "$$ \n",
    "\\hat{a} = -\\frac{1}{2} \\int_{\\sigma}^{\\infty} 4\\pi w(r) r^2 dr\n",
    "$$\n",
    "\n",
    "In this Notebook we simply do the integration numerically so that we can use arbitrary pair potentials.\n",
    "From this we calculate the potential, $μ$, versus density, $n$, using,\n",
    "\n",
    "$$\n",
    "\\beta \\, \\mu_{gvdW} = \\ln \\left( \\frac{1}{y - y_0} \\right) + \\frac{y}{y-y_0} - 2 \\frac{\\hat{a}}{y}\n",
    "$$\n",
    "\n",
    "From this we calculate the pressure, $p$, versus density, $n$, using,\n",
    "\n",
    "where $y=1/n$ and $y_0=\\pi \\sigma^2/2$ is the particle area.\n",
    "\n",
    "For reference we'll also plot the chemical potential for an ideal system (van 't Hoff), $\\beta \\mu_{ideal}= \\ln (1/y)$,\n",
    "where $\\beta = 1/k_BT$."
   ]
  },
  {
   "cell_type": "code",
   "execution_count": 20,
   "metadata": {
    "collapsed": true
   },
   "outputs": [],
   "source": [
    "def ahat(potential, **parameters):\n",
    "    sigma = parameters['sigma']\n",
    "    # extract the relevant parameters for the potential\n",
    "    parameters = {k:v for k,v in parameters.items() if k in inspect.signature(potential).parameters}\n",
    "    \n",
    "    def integrand(r):\n",
    "        return potential(r, **parameters) * r**2\n",
    "    integral, error = quad(integrand, sigma, np.infty, limit=50)\n",
    "    return -2 * pi * integral\n",
    "\n",
    "\n",
    "def ahatexact(z, D, eps, sigma):\n",
    "    return -2 * pi * (-8/9 * eps * sigma**3 + 7 * np.exp(-sigma/D) * z**2 * (D + sigma))\n",
    "\n",
    "def mu_ideal(n):\n",
    "    return np.log(n)\n",
    "\n",
    "def mu_gvdw_backup(n, z, D, eps, sigma, potential=potential_Combined):\n",
    "    y0 = pi*sigma**2 / 2\n",
    "    y  = 1 / n\n",
    "    a = ahat(potential, z=z, D=D, eps=eps, sigma=sigma)\n",
    "    return np.log(n) + np.log(y / (y-y0)) + y / (y-y0) - 2 * a/y\n",
    "\n",
    "def mu_gvdw(n, z, D, eps, sigma, potential=potential_Combined):\n",
    "    y0 = pi*sigma**2 / 2  # excluded volume\n",
    "    y  = 1 / n\n",
    "    a = ahat(potential, z=z, D=D, eps=eps, sigma=sigma)\n",
    "    return - np.log(y-y0) - y0 / (y - y0) - 2 * a / y"
   ]
  },
  {
   "cell_type": "markdown",
   "metadata": {},
   "source": [
    "### Interactive EOS plot"
   ]
  },
  {
   "cell_type": "code",
   "execution_count": 21,
   "metadata": {},
   "outputs": [
    {
     "data": {
      "application/vnd.jupyter.widget-view+json": {
       "model_id": "a6ce787fcb8649158e76aa7003d43aae"
      }
     },
     "metadata": {},
     "output_type": "display_data"
    }
   ],
   "source": [
    "n = np.linspace(1e-4, 1e-3, 100)\n",
    "_potentials = {fname[10:]: func for fname, func in globals().items() if fname.startswith(\"potential_\")}\n",
    "\n",
    "sliders = {\n",
    "    \"eps\": FloatSlider(min=0, max=10, step=0.1, value=1, description=r'LJ , $\\varepsilon_{LJ}$ ($\\beta$)'),\n",
    "    \"sigma\": FloatSlider(min=0, max=10, step=0.1, value=4, description=r'Size, $\\sigma_{LJ}$ (Å)'),\n",
    "    \"z\": IntSlider(min=0, max=3, step=1, value=1, description=r'Charge, $z$ ($e$)'),\n",
    "    \"Cs\": FloatSlider(min=1e-3, max=1, step=0.1, value=0.3, description=\"Salt, $c_s$ (M)\"),\n",
    "    \"potential\": _potentials\n",
    "}\n",
    "\n",
    "@interact(**sliders)\n",
    "def plot_EOS( eps=1.0, sigma=4.0, z=1.0, Cs=0.3, potential=potential_Combined):\n",
    "    D = 3.04/sqrt(Cs)\n",
    "    plt.figure(figsize=(10, 10/1.618), )\n",
    "    plt.plot(n, 10 + mu_ideal(n),  'k--', label='ideal', lw=2)\n",
    "    plt.plot(n, 10 + mu_gvdw(n, z, D, eps, sigma, potential=potential),  'r-', label=potential.__doc__ or potential.__name__, lw=2)\n",
    "    plt.title('Equation of State')\n",
    "    plt.xlabel(r'Number density, $n$')\n",
    "    plt.ylabel(r'Potential, $\\beta \\mu$')\n",
    "    plt.ylim([-2,10])\n",
    "    plt.legend(loc=4, frameon=False)\n",
    "    plt.show()"
   ]
  },
  {
   "cell_type": "markdown",
   "metadata": {},
   "source": [
    "# With Data"
   ]
  },
  {
   "cell_type": "code",
   "execution_count": 10,
   "metadata": {
    "collapsed": true
   },
   "outputs": [],
   "source": [
    "with open(\"datafile.csv\", \"wt\") as stream:\n",
    "    stream.write(\"\"\"\\\n",
    "length potential proteins density\n",
    "1.414000000000000000e+03 1.429585460731450097e-01 2.000000000000000000e+01 1.000302091231552026e+03\n",
    "9.990000000000000000e+02 2.990882091428900269e-01 2.000000000000000000e+01 2.004006008010011783e+03\n",
    "8.160000000000000000e+02 4.684432472751309806e-01 2.000000000000000000e+01 3.003652441368703876e+03\n",
    "6.320000000000000000e+02 8.629727385734929923e-01 2.000000000000000000e+01 5.007210382951449901e+03\n",
    "5.340000000000000000e+02 1.353602607621670062e+00 2.000000000000000000e+01 7.013704779138435697e+03\n",
    "4.710000000000000000e+02 1.970895704549270100e+00 2.000000000000000000e+01 9.015466031977857710e+03\n",
    "4.260000000000000000e+02 2.788653065634310035e+00 2.000000000000000000e+01 1.102074103462716812e+04\n",
    "3.920000000000000000e+02 3.842403663548089821e+00 2.000000000000000000e+01 1.301541024573094546e+04\"\"\")"
   ]
  },
  {
   "cell_type": "code",
   "execution_count": 11,
   "metadata": {
    "collapsed": true
   },
   "outputs": [],
   "source": [
    "df = pd.read_csv(\"datafile.csv\", delimiter=\"(?:\\s+|,)\", engine=\"python\")"
   ]
  },
  {
   "cell_type": "code",
   "execution_count": 12,
   "metadata": {},
   "outputs": [
    {
     "data": {
      "application/vnd.jupyter.widget-view+json": {
       "model_id": "3c4f9839187d4f24b55b9abab553f86e"
      }
     },
     "metadata": {},
     "output_type": "display_data"
    }
   ],
   "source": [
    "def plot_EOS( eps=1.0, sigma=4.0, z=0.0, Cs=0.3, potential=potential_Combined):\n",
    "    D = 3.04/sqrt(Cs)\n",
    "#     plt.title(potential.__doc__)\n",
    "    plt.plot(n, 10+mu_ideal(n),  'k--', label='ideal', lw=2)\n",
    "    plt.plot(n, 10+mu_gvdw(n, z, D, eps, sigma, potential=potential),  'r-', label=potential.__doc__ or potential.__name__, lw=2)\n",
    "    plt.plot(df.density/10**8, df.potential + mu_ideal((df.density/10**8)) + 10, label=\"data\")\n",
    "    plt.title('Equation of State')\n",
    "    plt.xlabel(r'Number density, $n$')\n",
    "    plt.ylabel(r'Potential, $\\beta \\mu$')\n",
    "    plt.legend(loc=0, frameon=False)\n",
    "    plt.show()\n",
    "\n",
    "data_density = df.density/10**8\n",
    "n = np.linspace(data_density[0], list(data_density)[-1], 100)\n",
    "\n",
    "_potentials = {fname: func for fname, func in globals().items() if fname.startswith(\"potential_\")}\n",
    "\n",
    "i = interact(plot_EOS,\n",
    "             eps=(0.0, 10.0, 0.1), \n",
    "             sigma=(0, 10, 0.1),\n",
    "             z=(0.0, 3, 1.0), \n",
    "             Cs=(1e-3, 1.0, 0.1), \n",
    "             potential = _potentials )\n",
    " \n",
    "i.widget.children[0].description=r'$\\beta\\varepsilon_{LJ}$'\n",
    "i.widget.children[1].description=r'$\\sigma_{LJ}$'\n",
    "i.widget.children[2].description=r'$z$'\n",
    "i.widget.children[3].description=r'$c_s$ (M)'"
   ]
  }
 ],
 "metadata": {
  "anaconda-cloud": {},
  "environment": {
   "channels": [
    "conda-forge",
    "defaults"
   ],
   "dependencies": [
    "ca-certificates=2017.7.27.1=0",
    "certifi=2017.7.27.1=py36_0",
    "cycler=0.10.0=py36_0",
    "freetype=2.7=1",
    "libpng=1.6.28=0",
    "matplotlib=2.0.2=py36_2",
    "ncurses=5.9=10",
    "openssl=1.0.2l=0",
    "pandas=0.20.3=py36_1",
    "pip=9.0.1=py36_0",
    "pyparsing=2.2.0=py36_0",
    "python=3.6.2=0",
    "python-dateutil=2.6.1=py36_0",
    "pytz=2017.2=py36_0",
    "readline=6.2=0",
    "setuptools=36.2.2=py36_0",
    "six=1.10.0=py36_1",
    "sqlite=3.13.0=1",
    "tk=8.5.19=2",
    "tornado=4.5.1=py36_0",
    "wheel=0.29.0=py36_0",
    "xz=5.2.3=0",
    "zlib=1.2.11=0",
    "mkl=2017.0.3=0",
    "numpy=1.13.1=py36_0"
   ],
   "name": "interactive-2d-gvdw",
   "prefix": "/Users/niels/anaconda3/envs/interactive-2d-gvdw"
  },
  "kernelspec": {
   "display_name": "Python [default]",
   "language": "python",
   "name": "python3"
  },
  "language_info": {
   "codemirror_mode": {
    "name": "ipython",
    "version": 3
   },
   "file_extension": ".py",
   "mimetype": "text/x-python",
   "name": "python",
   "nbconvert_exporter": "python",
   "pygments_lexer": "ipython3",
   "version": "3.6.1"
  },
  "widgets": {
   "state": {
    "bb6ce5f633ef4963b9bf16b92bf3ac8f": {
     "views": [
      {
       "cell_index": 8
      }
     ]
    }
   },
   "version": "1.2.0"
  }
 },
 "nbformat": 4,
 "nbformat_minor": 1
}
